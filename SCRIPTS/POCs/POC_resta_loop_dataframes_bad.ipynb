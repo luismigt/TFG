{
 "cells": [
  {
   "cell_type": "code",
   "execution_count": 1,
   "metadata": {},
   "outputs": [
    {
     "name": "stdout",
     "output_type": "stream",
     "text": [
      "<class 'pandas.core.frame.DataFrame'>\n",
      "RangeIndex: 4 entries, 0 to 3\n",
      "Data columns (total 3 columns):\n",
      "id_estacion    4 non-null object\n",
      "longitud       4 non-null float64\n",
      "latitud        4 non-null float64\n",
      "dtypes: float64(2), object(1)\n",
      "memory usage: 176.0+ bytes\n"
     ]
    }
   ],
   "source": [
    "import pandas as pd\n",
    "from math import sin, cos, sqrt, atan2\n",
    "\n",
    "#estacion meteo parayas: 43.427847, -3.822715\n",
    "#estacion meteo santander meteorologico: 43.465024, -3.818000\n",
    "#estacion meteo torrelavega: 43.347850, -4.048997\n",
    "#estacion meteo colindres: 43.397756, -3.450888\n",
    "#\n",
    "\n",
    "\n",
    "estaciones = {'id_estacion': ['parayas','GralDavila','torrelavega','colindres'],'longitud': [-3.822715,-3.818000,-4.048997,-3.450888],\n",
    "              'latitud': [43.427847,43.465024,43.347850,43.397756]}\n",
    "df_estaciones = pd.DataFrame(estaciones, columns = ['id_estacion', 'longitud','latitud'])\n",
    "\n",
    "df_estaciones.info()"
   ]
  },
  {
   "cell_type": "code",
   "execution_count": 2,
   "metadata": {},
   "outputs": [
    {
     "name": "stdout",
     "output_type": "stream",
     "text": [
      "<class 'pandas.core.frame.DataFrame'>\n",
      "RangeIndex: 4 entries, 0 to 3\n",
      "Data columns (total 3 columns):\n",
      "id_persona    4 non-null object\n",
      "longitud      4 non-null float64\n",
      "latitud       4 non-null float64\n",
      "dtypes: float64(2), object(1)\n",
      "memory usage: 176.0+ bytes\n"
     ]
    }
   ],
   "source": [
    "#incidente sardinero: 43.476453, -3.785589\n",
    "#incidente san vicente: 43.392227, -4.385415\n",
    "#incidente liencres: 43.450879, -3.967197\n",
    "#incidente santoña: 43.464525, -3.461491\n",
    "\n",
    "personas = {'id_persona': ['p1','p2','p3','p4'],'longitud': [-3.785589,-4.385415,-3.967197,-3.461491],\n",
    "            'latitud': [43.476453,43.392227,43.450879,43.464525]}\n",
    "df_personas = pd.DataFrame(personas, columns = ['id_persona', 'longitud','latitud'])\n",
    "\n",
    "df_personas.info()"
   ]
  },
  {
   "cell_type": "code",
   "execution_count": 3,
   "metadata": {},
   "outputs": [],
   "source": [
    "def calcular_distancia(lon1,lat1,lon2,lat2):\n",
    "\n",
    "    R = 6373.0\n",
    "\n",
    "    dlon = lon2 - lon1\n",
    "\n",
    "    dlat = lat2 - lat1\n",
    "\n",
    "    a = (sin(dlat/2))**2 + cos(lat1) * cos(lat2) * (sin(dlon/2))**2\n",
    "\n",
    "    c = 2 * atan2(sqrt(a), sqrt(1-a))\n",
    "\n",
    "    distance = R * c\n",
    "\n",
    "    print (\"Result\", str(distance))\n",
    "\n",
    "    return distance"
   ]
  },
  {
   "cell_type": "code",
   "execution_count": 4,
   "metadata": {},
   "outputs": [],
   "source": [
    "dict_persn_estacion = dict()"
   ]
  },
  {
   "cell_type": "code",
   "execution_count": 5,
   "metadata": {},
   "outputs": [
    {
     "name": "stdout",
     "output_type": "stream",
     "text": [
      "0\n",
      "ID PERSONA: p1 , LONGITUD: -3.785589 , LATITUD: 43.476453\n"
     ]
    },
    {
     "ename": "TypeError",
     "evalue": "unsupported operand type(s) for -: 'str' and 'float'",
     "output_type": "error",
     "traceback": [
      "\u001b[1;31m---------------------------------------------------------------------------\u001b[0m",
      "\u001b[1;31mTypeError\u001b[0m                                 Traceback (most recent call last)",
      "\u001b[1;32m<ipython-input-5-659fd200ff5a>\u001b[0m in \u001b[0;36m<module>\u001b[1;34m\u001b[0m\n\u001b[0;32m     25\u001b[0m         \u001b[0me_latitud\u001b[0m\u001b[1;33m=\u001b[0m\u001b[0mestacion\u001b[0m\u001b[1;33m[\u001b[0m\u001b[1;36m2\u001b[0m\u001b[1;33m]\u001b[0m\u001b[1;33m\u001b[0m\u001b[1;33m\u001b[0m\u001b[0m\n\u001b[0;32m     26\u001b[0m \u001b[1;33m\u001b[0m\u001b[0m\n\u001b[1;32m---> 27\u001b[1;33m         \u001b[0me_distancia\u001b[0m\u001b[1;33m=\u001b[0m\u001b[0mcalcular_distancia\u001b[0m\u001b[1;33m(\u001b[0m\u001b[0mp_latitud\u001b[0m\u001b[1;33m,\u001b[0m\u001b[0mp_longitud\u001b[0m\u001b[1;33m,\u001b[0m\u001b[0me_latitud\u001b[0m\u001b[1;33m,\u001b[0m\u001b[0me_longitud\u001b[0m\u001b[1;33m)\u001b[0m\u001b[1;33m\u001b[0m\u001b[1;33m\u001b[0m\u001b[0m\n\u001b[0m\u001b[0;32m     28\u001b[0m \u001b[1;33m\u001b[0m\u001b[0m\n\u001b[0;32m     29\u001b[0m         \u001b[1;32mif\u001b[0m \u001b[0me_distancia\u001b[0m \u001b[1;33m<\u001b[0m \u001b[0mdistancia\u001b[0m\u001b[1;33m:\u001b[0m\u001b[1;33m\u001b[0m\u001b[1;33m\u001b[0m\u001b[0m\n",
      "\u001b[1;32m<ipython-input-3-58ab8092c45a>\u001b[0m in \u001b[0;36mcalcular_distancia\u001b[1;34m(lon1, lat1, lon2, lat2)\u001b[0m\n\u001b[0;32m      3\u001b[0m     \u001b[0mR\u001b[0m \u001b[1;33m=\u001b[0m \u001b[1;36m6373.0\u001b[0m\u001b[1;33m\u001b[0m\u001b[1;33m\u001b[0m\u001b[0m\n\u001b[0;32m      4\u001b[0m \u001b[1;33m\u001b[0m\u001b[0m\n\u001b[1;32m----> 5\u001b[1;33m     \u001b[0mdlon\u001b[0m \u001b[1;33m=\u001b[0m \u001b[0mlon2\u001b[0m \u001b[1;33m-\u001b[0m \u001b[0mlon1\u001b[0m\u001b[1;33m\u001b[0m\u001b[1;33m\u001b[0m\u001b[0m\n\u001b[0m\u001b[0;32m      6\u001b[0m \u001b[1;33m\u001b[0m\u001b[0m\n\u001b[0;32m      7\u001b[0m     \u001b[0mdlat\u001b[0m \u001b[1;33m=\u001b[0m \u001b[0mlat2\u001b[0m \u001b[1;33m-\u001b[0m \u001b[0mlat1\u001b[0m\u001b[1;33m\u001b[0m\u001b[1;33m\u001b[0m\u001b[0m\n",
      "\u001b[1;31mTypeError\u001b[0m: unsupported operand type(s) for -: 'str' and 'float'"
     ]
    }
   ],
   "source": [
    "dict_persn_estacion = dict()\n",
    "\n",
    "for num_linea, j in df_personas.iterrows():\n",
    "\n",
    "    id_persona=j[0]\n",
    "\n",
    "    p_longitud=j[1]\n",
    "\n",
    "    p_latitud=j[2]\n",
    "\n",
    "    print(num_linea)\n",
    "\n",
    "    print(\"ID PERSONA: \" + str(id_persona) + \" , LONGITUD: \"  + str(p_longitud) + \" , LATITUD: \" + str(p_latitud))\n",
    "\n",
    "    distancia = 9999999\n",
    "\n",
    "    estacion_name =\"Nan\"\n",
    "\n",
    "    for num_estacion, estacion in df_estaciones.iterrows():\n",
    "\n",
    "        estacion=estacion[0]\n",
    "\n",
    "        e_longitud=estacion[1]\n",
    "\n",
    "        e_latitud=estacion[2]\n",
    "\n",
    "        e_distancia=calcular_distancia(p_latitud,p_longitud,e_latitud,e_longitud)\n",
    "\n",
    "        if e_distancia < distancia:\n",
    "\n",
    "            print(\" Distnacia anterior:\" + str(distancia) + \" Distancia nueva:\" +str(e_distancia) )\n",
    "\n",
    "            distancia = e_distancia\n",
    "\n",
    "            estacion_name = estacion\n",
    "\n",
    "    dict_persn_estacion[id_persona]=estacion_name\n",
    "\n",
    " \n",
    "\n",
    "dict_persn_estacion"
   ]
  },
  {
   "cell_type": "code",
   "execution_count": null,
   "metadata": {},
   "outputs": [],
   "source": [
    "df_tot=pd.DataFrame.from_dict(dict_persn_estacion, orient='index')\n",
    "df_tot.head()"
   ]
  }
 ],
 "metadata": {
  "kernelspec": {
   "display_name": "Python 3",
   "language": "python",
   "name": "python3"
  },
  "language_info": {
   "codemirror_mode": {
    "name": "ipython",
    "version": 3
   },
   "file_extension": ".py",
   "mimetype": "text/x-python",
   "name": "python",
   "nbconvert_exporter": "python",
   "pygments_lexer": "ipython3",
   "version": "3.7.6"
  }
 },
 "nbformat": 4,
 "nbformat_minor": 2
}
