{
 "cells": [
  {
   "cell_type": "code",
   "execution_count": 1,
   "metadata": {},
   "outputs": [],
   "source": [
    "import pandas as pd\n",
    "from numpy import radians\n",
    "from math import sin, cos, sqrt, atan2\n",
    "\n",
    " \n",
    "\n",
    " \n",
    "\n",
    "def calcular_distancia(lon1,lat1,lon2,lat2):\n",
    "\n",
    "    R = 6373.0\n",
    "\n",
    "    dlon = lon2 - lon1\n",
    "\n",
    "    dlat = lat2 - lat1\n",
    "\n",
    "    a = (sin(dlat/2))**2 + cos(lat1) * cos(lat2) * (sin(dlon/2))**2\n",
    "\n",
    "    c = 2 * atan2(sqrt(a), sqrt(1-a))\n",
    "\n",
    "    distance = R * c\n",
    "\n",
    "    print (\"Result\", str(distance))\n",
    "\n",
    "    return distance"
   ]
  },
  {
   "cell_type": "code",
   "execution_count": 2,
   "metadata": {},
   "outputs": [
    {
     "name": "stdout",
     "output_type": "stream",
     "text": [
      "   id_estacion  longitud   latitud\n",
      "0      parayas -0.066719  0.757959\n",
      "1   GralDavila -0.066637  0.758608\n",
      "2  torrelavega -0.070668  0.756563\n",
      "3    colindres -0.060229  0.757434\n"
     ]
    }
   ],
   "source": [
    "#estacion meteo parayas: 43.427847, -3.822715\n",
    "#estacion meteo santander meteorologico: 43.465024, -3.818000\n",
    "#estacion meteo torrelavega: 43.347850, -4.048997\n",
    "#estacion meteo colindres: 43.397756, -3.450888\n",
    "#estacion meteo reinosa 42.996798, -4.141162\n",
    "\n",
    "estaciones = {'id_estacion': ['parayas','GralDavila','torrelavega','colindres'],\n",
    "\n",
    "        'longitud': [-3.822715,-3.818000,-4.048997,-3.450888],\n",
    "              'latitud': [43.427847,43.465024,43.347850,43.397756]\n",
    "\n",
    "        }\n",
    "\n",
    " \n",
    "\n",
    "df_estaciones = pd.DataFrame(estaciones, columns = ['id_estacion', 'longitud','latitud'])\n",
    "df_estaciones['longitud']=radians(df_estaciones[['longitud']])\n",
    "df_estaciones['latitud']=radians(df_estaciones[['latitud']])\n",
    " \n",
    "\n",
    "print (df_estaciones)\n",
    "\n",
    " \n",
    "\n"
   ]
  },
  {
   "cell_type": "code",
   "execution_count": 3,
   "metadata": {},
   "outputs": [
    {
     "name": "stdout",
     "output_type": "stream",
     "text": [
      "  id_persona  longitud   latitud\n",
      "0         p1 -0.066071  0.758807\n",
      "1         p2 -0.076540  0.757337\n",
      "2         p3 -0.069241  0.758361\n",
      "3         p4 -0.060414  0.758599\n",
      "4         p5 -0.070721  0.750293\n"
     ]
    }
   ],
   "source": [
    "#incidente sardinero: 43.476453, -3.785589\n",
    "#incidente san vicente: 43.392227, -4.385415\n",
    "#incidente liencres: 43.450879, -3.967197\n",
    "#incidente santoña: 43.464525, -3.461491\n",
    "#incidente ebro: 42.988642, -4.052042\n",
    "\n",
    "personas = {'id_persona': ['p1','p2','p3','p4','p5'],\n",
    "\n",
    "        'longitud': [-3.785589,-4.385415,-3.967197,-3.461491,-4.052042],\n",
    "            'latitud': [43.476453,43.392227,43.450879,43.464525,42.988642]}\n",
    "\n",
    "df_personas = pd.DataFrame(personas, columns = ['id_persona', 'longitud','latitud'])\n",
    "\n",
    "df_personas['longitud']=radians(df_personas[['longitud']])\n",
    "df_personas['latitud']=radians(df_personas[['latitud']])\n",
    "\n",
    "print (df_personas)"
   ]
  },
  {
   "cell_type": "code",
   "execution_count": 4,
   "metadata": {},
   "outputs": [
    {
     "name": "stdout",
     "output_type": "stream",
     "text": [
      "0\n",
      "ID PERSONA: p1 , LONGITUD: -0.06607099217727962 , LATITUD: 0.7588072519385662\n",
      "Result 6.1819484456130525\n",
      " Distnacia anterior:9999999 Distancia nueva:6.1819484456130525\n",
      "Result 2.908788756508801\n",
      " Distnacia anterior:6.1819484456130525 Distancia nueva:2.908788756508801\n",
      "Result 25.64381858135077\n",
      "Result 28.414758248716307\n",
      "1\n",
      "ID PERSONA: p2 , LONGITUD: -0.07653993081634713 , LATITUD: 0.7573372309227815\n",
      "Result 45.640273717796006\n",
      " Distnacia anterior:9999999 Distancia nueva:45.640273717796006\n",
      "Result 46.544613312584794\n",
      "Result 27.645863014861483\n",
      " Distnacia anterior:45.640273717796006 Distancia nueva:27.645863014861483\n",
      "Result 75.53381377277786\n",
      "2\n",
      "ID PERSONA: p3 , LONGITUD: -0.06924064972524148 , LATITUD: 0.7583609014356613\n",
      "Result 11.94688802135442\n",
      " Distnacia anterior:9999999 Distancia nueva:11.94688802135442\n",
      "Result 12.148393686977775\n",
      "Result 13.23000324943109\n",
      "Result 42.1260728992495\n",
      "3\n",
      "ID PERSONA: p4 , LONGITUD: -0.06041441497815104 , LATITUD: 0.7585990690653884\n",
      "Result 29.454575189515847\n",
      " Distnacia anterior:9999999 Distancia nueva:29.454575189515847\n",
      "Result 28.781119926631295\n",
      " Distnacia anterior:29.454575189515847 Distancia nueva:28.781119926631295\n",
      "Result 49.2171927872572\n",
      "Result 7.475925778592816\n",
      " Distnacia anterior:28.781119926631295 Distancia nueva:7.475925778592816\n",
      "4\n",
      "ID PERSONA: p5 , LONGITUD: -0.07072147432909608 , LATITUD: 0.7502933438611201\n",
      "Result 52.27086260507441\n",
      " Distnacia anterior:9999999 Distancia nueva:52.27086260507441\n",
      "Result 56.28065806697333\n",
      "Result 39.9554095595475\n",
      " Distnacia anterior:52.27086260507441 Distancia nueva:39.9554095595475\n",
      "Result 66.6870999396724\n"
     ]
    },
    {
     "data": {
      "text/plain": [
       "{'p1': 'GralDavila',\n",
       " 'p2': 'torrelavega',\n",
       " 'p3': 'parayas',\n",
       " 'p4': 'colindres',\n",
       " 'p5': 'torrelavega'}"
      ]
     },
     "execution_count": 4,
     "metadata": {},
     "output_type": "execute_result"
    }
   ],
   "source": [
    "dict_persn_estacion = dict()\n",
    "\n",
    "for num_linea, j in df_personas.iterrows():\n",
    "\n",
    "    id_persona=j[0]\n",
    "\n",
    "    p_longitud=j[1]\n",
    "\n",
    "    p_latitud=j[2]\n",
    "\n",
    "    print(num_linea)\n",
    "\n",
    "    print(\"ID PERSONA: \" + str(id_persona) + \" , LONGITUD: \"  + str(p_longitud) + \" , LATITUD: \" + str(p_latitud))\n",
    "\n",
    "    distancia = 9999999\n",
    "\n",
    "    estacion_name =\"Nan\"\n",
    "\n",
    "    for num_estacion, estacion in df_estaciones.iterrows():\n",
    "\n",
    "        id_estacion=estacion[0]\n",
    "\n",
    "        e_longitud=estacion[1]\n",
    "\n",
    "        e_latitud=estacion[2]\n",
    "\n",
    "        e_distancia=calcular_distancia(p_longitud,p_latitud,e_longitud,e_latitud)\n",
    "\n",
    "        if e_distancia < distancia:\n",
    "\n",
    "            print(\" Distnacia anterior:\" + str(distancia) + \" Distancia nueva:\" +str(e_distancia) )\n",
    "\n",
    "            distancia = e_distancia\n",
    "\n",
    "            estacion_name = id_estacion\n",
    "\n",
    "    dict_persn_estacion[id_persona]=estacion_name\n",
    "\n",
    " \n",
    "\n",
    "dict_persn_estacion"
   ]
  }
 ],
 "metadata": {
  "kernelspec": {
   "display_name": "Python 3",
   "language": "python",
   "name": "python3"
  },
  "language_info": {
   "codemirror_mode": {
    "name": "ipython",
    "version": 3
   },
   "file_extension": ".py",
   "mimetype": "text/x-python",
   "name": "python",
   "nbconvert_exporter": "python",
   "pygments_lexer": "ipython3",
   "version": "3.7.6"
  }
 },
 "nbformat": 4,
 "nbformat_minor": 2
}
