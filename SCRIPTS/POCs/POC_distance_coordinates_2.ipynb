{
 "cells": [
  {
   "cell_type": "code",
   "execution_count": 3,
   "metadata": {},
   "outputs": [],
   "source": [
    "import pandas as pd\n",
    "import numpy as np\n",
    "import math\n",
    "from math import sin, cos, sqrt, atan2, radians"
   ]
  },
  {
   "cell_type": "markdown",
   "metadata": {},
   "source": [
    "from math import sin, cos, sqrt, atan2, radians\n",
    "\n",
    "# approximate radius of earth in km\n",
    "R = 6373.0\n",
    "\n",
    "lat1 = radians(52.2296756)\n",
    "lon1 = radians(21.0122287)\n",
    "lat2 = radians(52.406374)\n",
    "lon2 = radians(16.9251681)\n",
    "\n",
    "dlon = lon2 - lon1\n",
    "dlat = lat2 - lat1\n",
    "\n",
    "a = sin(dlat / 2)**2 + cos(lat1) * cos(lat2) * sin(dlon / 2)**2\n",
    "c = 2 * atan2(sqrt(a), sqrt(1 - a))\n",
    "\n",
    "distance = R * c\n",
    "\n",
    "print(\"Result:\", distance)\n"
   ]
  },
  {
   "cell_type": "code",
   "execution_count": 6,
   "metadata": {},
   "outputs": [
    {
     "data": {
      "text/html": [
       "<div>\n",
       "<style scoped>\n",
       "    .dataframe tbody tr th:only-of-type {\n",
       "        vertical-align: middle;\n",
       "    }\n",
       "\n",
       "    .dataframe tbody tr th {\n",
       "        vertical-align: top;\n",
       "    }\n",
       "\n",
       "    .dataframe thead th {\n",
       "        text-align: right;\n",
       "    }\n",
       "</style>\n",
       "<table border=\"1\" class=\"dataframe\">\n",
       "  <thead>\n",
       "    <tr style=\"text-align: right;\">\n",
       "      <th></th>\n",
       "      <th>lon1</th>\n",
       "      <th>lat1</th>\n",
       "      <th>lon2</th>\n",
       "      <th>lat2</th>\n",
       "    </tr>\n",
       "  </thead>\n",
       "  <tbody>\n",
       "    <tr>\n",
       "      <th>0</th>\n",
       "      <td>-3.967197</td>\n",
       "      <td>43.450879</td>\n",
       "      <td>-4.048997</td>\n",
       "      <td>43.347850</td>\n",
       "    </tr>\n",
       "    <tr>\n",
       "      <th>1</th>\n",
       "      <td>-3.967197</td>\n",
       "      <td>43.450879</td>\n",
       "      <td>-3.822715</td>\n",
       "      <td>43.427847</td>\n",
       "    </tr>\n",
       "  </tbody>\n",
       "</table>\n",
       "</div>"
      ],
      "text/plain": [
       "       lon1       lat1      lon2       lat2\n",
       "0 -3.967197  43.450879 -4.048997  43.347850\n",
       "1 -3.967197  43.450879 -3.822715  43.427847"
      ]
     },
     "execution_count": 6,
     "metadata": {},
     "output_type": "execute_result"
    }
   ],
   "source": [
    "coordenadas = {'lon1': [-3.967197,-3.967197],   #liencres\n",
    "            'lat1': [43.450879,43.450879],\n",
    "              'lon2': [-4.048997,-3.822715],    #torrelavega,parayas\n",
    "              'lat2': [43.347850,43.427847]}\n",
    "\n",
    "new_df = pd.DataFrame(coordenadas, columns = ['lon1', 'lat1','lon2','lat2'])\n",
    "\n",
    "new_df.head()"
   ]
  },
  {
   "cell_type": "code",
   "execution_count": 7,
   "metadata": {},
   "outputs": [],
   "source": [
    "# approximate radius of earth in km\n",
    "R = 6373.0\n",
    "\n"
   ]
  },
  {
   "cell_type": "code",
   "execution_count": 8,
   "metadata": {
    "scrolled": true
   },
   "outputs": [],
   "source": [
    "new_df['rad_lat1'] = np.radians(new_df[['lat1']])\n",
    "new_df['rad_lon1'] = np.radians(new_df['lon1'])\n",
    "new_df['rad_lat2'] = np.radians(new_df['lat2'])\n",
    "new_df['rad_lon2'] = np.radians(new_df['lon2'])\n",
    "\n",
    "new_df['dlat'] = new_df['rad_lat2'] - new_df['rad_lat1']\n",
    "new_df['dlon'] = new_df['rad_lon2'] - new_df['rad_lon1']\n",
    "\n",
    "new_df['a'] = np.sin(new_df['dlat'] / 2)**2 + np.cos(new_df['rad_lat1']) * np.cos(new_df['rad_lat2']) * np.sin(new_df['dlon'] / 2)**2\n",
    "new_df['c'] = 2 * np.arctan2(np.sqrt(new_df['a']), np.sqrt(1 - new_df['a']))\n",
    "\n",
    "new_df['distance'] = R * new_df['c']"
   ]
  },
  {
   "cell_type": "code",
   "execution_count": 9,
   "metadata": {
    "scrolled": true
   },
   "outputs": [
    {
     "data": {
      "text/html": [
       "<div>\n",
       "<style scoped>\n",
       "    .dataframe tbody tr th:only-of-type {\n",
       "        vertical-align: middle;\n",
       "    }\n",
       "\n",
       "    .dataframe tbody tr th {\n",
       "        vertical-align: top;\n",
       "    }\n",
       "\n",
       "    .dataframe thead th {\n",
       "        text-align: right;\n",
       "    }\n",
       "</style>\n",
       "<table border=\"1\" class=\"dataframe\">\n",
       "  <thead>\n",
       "    <tr style=\"text-align: right;\">\n",
       "      <th></th>\n",
       "      <th>lon1</th>\n",
       "      <th>lat1</th>\n",
       "      <th>lon2</th>\n",
       "      <th>lat2</th>\n",
       "      <th>rad_lat1</th>\n",
       "      <th>rad_lon1</th>\n",
       "      <th>rad_lat2</th>\n",
       "      <th>rad_lon2</th>\n",
       "      <th>dlat</th>\n",
       "      <th>dlon</th>\n",
       "      <th>a</th>\n",
       "      <th>c</th>\n",
       "      <th>distance</th>\n",
       "    </tr>\n",
       "  </thead>\n",
       "  <tbody>\n",
       "    <tr>\n",
       "      <th>0</th>\n",
       "      <td>-3.967197</td>\n",
       "      <td>43.450879</td>\n",
       "      <td>-4.048997</td>\n",
       "      <td>43.347850</td>\n",
       "      <td>0.758361</td>\n",
       "      <td>-0.069241</td>\n",
       "      <td>0.756563</td>\n",
       "      <td>-0.070668</td>\n",
       "      <td>-0.001798</td>\n",
       "      <td>-0.001428</td>\n",
       "      <td>1.077387e-06</td>\n",
       "      <td>0.002076</td>\n",
       "      <td>13.230003</td>\n",
       "    </tr>\n",
       "    <tr>\n",
       "      <th>1</th>\n",
       "      <td>-3.967197</td>\n",
       "      <td>43.450879</td>\n",
       "      <td>-3.822715</td>\n",
       "      <td>43.427847</td>\n",
       "      <td>0.758361</td>\n",
       "      <td>-0.069241</td>\n",
       "      <td>0.757959</td>\n",
       "      <td>-0.066719</td>\n",
       "      <td>-0.000402</td>\n",
       "      <td>0.002522</td>\n",
       "      <td>8.785402e-07</td>\n",
       "      <td>0.001875</td>\n",
       "      <td>11.946888</td>\n",
       "    </tr>\n",
       "  </tbody>\n",
       "</table>\n",
       "</div>"
      ],
      "text/plain": [
       "       lon1       lat1      lon2       lat2  rad_lat1  rad_lon1  rad_lat2  \\\n",
       "0 -3.967197  43.450879 -4.048997  43.347850  0.758361 -0.069241  0.756563   \n",
       "1 -3.967197  43.450879 -3.822715  43.427847  0.758361 -0.069241  0.757959   \n",
       "\n",
       "   rad_lon2      dlat      dlon             a         c   distance  \n",
       "0 -0.070668 -0.001798 -0.001428  1.077387e-06  0.002076  13.230003  \n",
       "1 -0.066719 -0.000402  0.002522  8.785402e-07  0.001875  11.946888  "
      ]
     },
     "execution_count": 9,
     "metadata": {},
     "output_type": "execute_result"
    }
   ],
   "source": [
    "new_df.head()"
   ]
  }
 ],
 "metadata": {
  "kernelspec": {
   "display_name": "Python 3",
   "language": "python",
   "name": "python3"
  },
  "language_info": {
   "codemirror_mode": {
    "name": "ipython",
    "version": 3
   },
   "file_extension": ".py",
   "mimetype": "text/x-python",
   "name": "python",
   "nbconvert_exporter": "python",
   "pygments_lexer": "ipython3",
   "version": "3.7.6"
  }
 },
 "nbformat": 4,
 "nbformat_minor": 2
}
