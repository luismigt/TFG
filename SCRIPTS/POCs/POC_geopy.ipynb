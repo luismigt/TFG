{
 "cells": [
  {
   "cell_type": "code",
   "execution_count": 7,
   "metadata": {},
   "outputs": [],
   "source": [
    "from geopy.geocoders import Nominatim\n",
    "\n",
    "import tqdm \n",
    "from tqdm._tqdm_notebook import tqdm_notebook\n"
   ]
  },
  {
   "cell_type": "code",
   "execution_count": 8,
   "metadata": {},
   "outputs": [
    {
     "name": "stdout",
     "output_type": "stream",
     "text": [
      "{'address29': '6', 'house_number': '6', 'road': 'Plaza Mayor', 'village': 'Abla', 'county': 'Almería', 'state': 'Andalucía', 'postcode': '04510', 'country': 'España', 'country_code': 'es'}\n"
     ]
    }
   ],
   "source": [
    "geolocator = Nominatim(user_agent=\"Luismi\")\n",
    "location = geolocator.reverse(\"37.14138888888889, -2.7794444444444446\",addressdetails=True,timeout=10)\n",
    "\n",
    "print(location.raw['address'])"
   ]
  },
  {
   "cell_type": "code",
   "execution_count": null,
   "metadata": {},
   "outputs": [],
   "source": [
    "import pandas as pd\n",
    "import numpy as np\n",
    "\n",
    "df=pd.read_csv('../DATASETS/ESTACIONES/estaciones_coordenadas_decimal.csv',sep='|',error_bad_lines=False)"
   ]
  },
  {
   "cell_type": "code",
   "execution_count": null,
   "metadata": {},
   "outputs": [],
   "source": [
    "df.info()"
   ]
  },
  {
   "cell_type": "code",
   "execution_count": null,
   "metadata": {},
   "outputs": [],
   "source": [
    "#df['DataFrame Column'] = df['DataFrame Column'].astype(float)\n",
    "df['Longitud']=df['Longitud'].astype(str)\n",
    "df['Latitud']=df['Latitud'].astype(str)\n"
   ]
  },
  {
   "cell_type": "code",
   "execution_count": null,
   "metadata": {},
   "outputs": [],
   "source": [
    "#df['Colors'] = df[['Black, 'Red', 'Blue', 'Green']].apply(lambda x: ', '.join(x), axis=1)\n",
    "df['Coordenadas']=df[['Latitud','Longitud']].apply(lambda x: ', '.join(x), axis=1)\n",
    "df.info()"
   ]
  },
  {
   "cell_type": "code",
   "execution_count": null,
   "metadata": {},
   "outputs": [],
   "source": [
    "#geolocator = Nominatim(user_agent=\"Luismi\")\n",
    "#location = geolocator.reverse(\"43.46666666666667, -3.8166666666666664\",addressdetails=True)\n",
    "\n",
    "#print(location.raw['address']['city'])\n",
    "\n",
    "\n",
    "from geopy.exc import GeocoderTimedOut\n",
    "\n",
    "\n",
    "from geopy.extra.rate_limiter import RateLimiter\n",
    "geolocator = Nominatim(user_agent=\"Luismi\",timeout=10)\n",
    "\n",
    "#df['direccion']=df['Coordenadas'].apply(lambda x: locator.reverse(x))\n",
    "\n",
    "#location.raw['address'].get('town', location.raw['address'].get('city'))\n",
    "\n",
    "df['ciudad']=df['Coordenadas'].apply(lambda x: geolocator.reverse(x).raw['address'].get('town', geolocator.reverse(x).raw['address'].get('city')))\n",
    "\n",
    "#rgeocode = RateLimiter(locator.reverse, min_delay_seconds=0.001)\n",
    "\n",
    "\n",
    "\n",
    "#tqdm_notebook.pandas()\n",
    "#df['address'] = df['Coordenadas'].progress_apply(rgeocode)"
   ]
  },
  {
   "cell_type": "code",
   "execution_count": null,
   "metadata": {},
   "outputs": [],
   "source": [
    "df.head(n=66)"
   ]
  },
  {
   "cell_type": "code",
   "execution_count": null,
   "metadata": {},
   "outputs": [],
   "source": [
    "#geolocator = Nominatim(user_agent=\"Luismi\")\n",
    "#location = geolocator.reverse(\"43.46666666666667, -3.8166666666666664\",addressdetails=True)\n",
    "\n",
    "#print(location.raw['address']['city'])\n",
    "\n",
    "\n",
    "\n",
    "\n",
    "\n",
    "from geopy.extra.rate_limiter import RateLimiter\n",
    "locator = Nominatim(user_agent=\"Luismi\", timeout=10)\n",
    "rgeocode = RateLimiter(locator.reverse, min_delay_seconds=0.001)\n",
    "\n",
    "\n",
    "\n",
    "tqdm_notebook.pandas()\n",
    "df['address'] = df['Coordenadas'].progress_apply(rgeocode)\n",
    "\n"
   ]
  }
 ],
 "metadata": {
  "kernelspec": {
   "display_name": "Python 3",
   "language": "python",
   "name": "python3"
  },
  "language_info": {
   "codemirror_mode": {
    "name": "ipython",
    "version": 3
   },
   "file_extension": ".py",
   "mimetype": "text/x-python",
   "name": "python",
   "nbconvert_exporter": "python",
   "pygments_lexer": "ipython3",
   "version": "3.7.6"
  }
 },
 "nbformat": 4,
 "nbformat_minor": 2
}
