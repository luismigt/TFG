{
 "cells": [
  {
   "cell_type": "markdown",
   "metadata": {},
   "source": [
    "# asigna_codigos_incidentes_1.0"
   ]
  },
  {
   "cell_type": "markdown",
   "metadata": {},
   "source": [
    "En este script se van a sustituir los multiples campos descriptivos por sus codigos asociados, extraidos de las tablas auxiliares que tenemos en la base de datos. Esto facilitara el posterior analisis.\n",
    "\n",
    "Por otra parte, aquellas columnas de descriptivos que carezcan de relevancia, bien sea porque su informacion se considera irrlevante, o porque no estan informadas en un porcentaje alto de incidentes, se suprimiran."
   ]
  },
  {
   "cell_type": "code",
   "execution_count": 1,
   "metadata": {},
   "outputs": [],
   "source": [
    "import pandas as pd\n",
    "import numpy as np\n",
    "\n",
    "df_inc=pd.read_csv('../DATASETS/AHOGADOS/CSV/historico_incidentes_estaciones_meteo.csv',sep='|',error_bad_lines=False)\n"
   ]
  },
  {
   "cell_type": "code",
   "execution_count": 2,
   "metadata": {},
   "outputs": [
    {
     "name": "stdout",
     "output_type": "stream",
     "text": [
      "<class 'pandas.core.frame.DataFrame'>\n",
      "RangeIndex: 6482 entries, 0 to 6481\n",
      "Data columns (total 41 columns):\n",
      "Fecha              6482 non-null object\n",
      "IdAhogado          6482 non-null int64\n",
      "IdPersona          6482 non-null int64\n",
      "Localidad          6482 non-null object\n",
      "Provincia          6482 non-null object\n",
      "CCAA               6482 non-null object\n",
      "Hora               5381 non-null object\n",
      "Latitud_inc        6482 non-null float64\n",
      "Longitud_inc       6482 non-null float64\n",
      "Sexo               6481 non-null object\n",
      "Edad               5366 non-null float64\n",
      "Nacionalidad       6482 non-null object\n",
      "Origen             6482 non-null object\n",
      "Extraccion         6482 non-null object\n",
      "Causa              6482 non-null object\n",
      "TipoAhogamiento    6482 non-null object\n",
      "Factor             6482 non-null object\n",
      "Intervencion       6482 non-null object\n",
      "Pronostico         6482 non-null object\n",
      "Localizacion       6482 non-null object\n",
      "Riesgo             6482 non-null object\n",
      "Reanimacion        6482 non-null object\n",
      "Vigilancia         6482 non-null object\n",
      "Actividad          6482 non-null object\n",
      "Deteccion          6482 non-null object\n",
      "ID                 6482 non-null int64\n",
      "Estacion           6482 non-null object\n",
      "Estado             6482 non-null object\n",
      "Latitud_est        6482 non-null float64\n",
      "Longitud_est       6482 non-null float64\n",
      "T_med              6482 non-null float64\n",
      "T_max              6482 non-null float64\n",
      "T_min              6482 non-null float64\n",
      "Precipitaciones    6482 non-null float64\n",
      "Presion            6482 non-null float64\n",
      "Dir. vi.           6467 non-null float64\n",
      "V_Viento           6482 non-null int64\n",
      "Nubosidad          6482 non-null float64\n",
      "ProfNievecm        4625 non-null float64\n",
      "InsolacHoras       4625 non-null float64\n",
      "Distancia          6482 non-null float64\n",
      "dtypes: float64(15), int64(4), object(22)\n",
      "memory usage: 2.0+ MB\n"
     ]
    }
   ],
   "source": [
    "df_inc.info()"
   ]
  },
  {
   "cell_type": "code",
   "execution_count": 3,
   "metadata": {},
   "outputs": [
    {
     "name": "stderr",
     "output_type": "stream",
     "text": [
      "C:\\Users\\Luis Miguel Garay\\Anaconda3\\lib\\site-packages\\ipykernel_launcher.py:4: FutureWarning: \n",
      ".ix is deprecated. Please use\n",
      ".loc for label based indexing or\n",
      ".iloc for positional indexing\n",
      "\n",
      "See the documentation here:\n",
      "http://pandas.pydata.org/pandas-docs/stable/user_guide/indexing.html#ix-indexer-is-deprecated\n",
      "  after removing the cwd from sys.path.\n",
      "C:\\Users\\Luis Miguel Garay\\Anaconda3\\lib\\site-packages\\pandas\\core\\indexing.py:822: FutureWarning: \n",
      ".ix is deprecated. Please use\n",
      ".loc for label based indexing or\n",
      ".iloc for positional indexing\n",
      "\n",
      "See the documentation here:\n",
      "http://pandas.pydata.org/pandas-docs/stable/user_guide/indexing.html#ix-indexer-is-deprecated\n",
      "  retval = getattr(retval, self.name)._getitem_axis(key, axis=i)\n"
     ]
    }
   ],
   "source": [
    "\n",
    "df_inc['Mes'] = df_inc['Fecha'].str.slice(3, 5).astype(float)\n",
    "cols = list(df_inc)\n",
    "cols.insert(1, cols.pop(cols.index('Mes')))\n",
    "df_inc = df_inc.ix[:, cols]\n",
    "\n",
    "df_actividad=pd.read_csv('../DATASETS/AHOGADOS/CSV/AUXILIARES/aux_actividad.csv',sep='|',error_bad_lines=False)\n",
    "df_localizacion=pd.read_csv('../DATASETS/AHOGADOS/CSV/AUXILIARES/aux_localizacion.csv',sep='|',error_bad_lines=False)\n",
    "df_causa=pd.read_csv('../DATASETS/AHOGADOS/CSV/AUXILIARES/aux_causa.csv',sep='|',error_bad_lines=False)\n",
    "df_CCAA=pd.read_csv('../DATASETS/AHOGADOS/CSV/AUXILIARES/aux_CCAA.csv',sep='|',error_bad_lines=False)\n",
    "df_deteccion=pd.read_csv('../DATASETS/AHOGADOS/CSV/AUXILIARES/aux_deteccion.csv',sep='|',error_bad_lines=False)\n",
    "df_factores=pd.read_csv('../DATASETS/AHOGADOS/CSV/AUXILIARES/aux_factores.csv',sep='|',error_bad_lines=False)\n",
    "df_intervencion=pd.read_csv('../DATASETS/AHOGADOS/CSV/AUXILIARES/aux_intervencion.csv',sep='|',error_bad_lines=False)\n",
    "df_origen=pd.read_csv('../DATASETS/AHOGADOS/CSV/AUXILIARES/aux_origen.csv',sep='|',error_bad_lines=False)\n",
    "df_pronostico=pd.read_csv('../DATASETS/AHOGADOS/CSV/AUXILIARES/aux_pronostico.csv',sep='|',error_bad_lines=False)\n",
    "df_provincias=pd.read_csv('../DATASETS/AHOGADOS/CSV/AUXILIARES/aux_provincias.csv',sep='|',error_bad_lines=False)\n",
    "df_reanimacion=pd.read_csv('../DATASETS/AHOGADOS/CSV/AUXILIARES/aux_reanimacion.csv',sep='|',error_bad_lines=False)\n",
    "df_riesgo=pd.read_csv('../DATASETS/AHOGADOS/CSV/AUXILIARES/aux_riesgo.csv',sep='|',error_bad_lines=False)\n",
    "df_tipo=pd.read_csv('../DATASETS/AHOGADOS/CSV/AUXILIARES/aux_tipo.csv',sep='|',error_bad_lines=False)\n",
    "df_vigilancia=pd.read_csv('../DATASETS/AHOGADOS/CSV/AUXILIARES/aux_vigilancia.csv',sep='|',error_bad_lines=False)\n",
    "\n",
    "df_inc['Mes'] = df_inc['Fecha'].str.slice(3, 5).astype(float)\n",
    "\n",
    "df_CCAA['CCAA'] = df_CCAA['CCAA'].str.upper()\n",
    "df_provincias['Provincia'] = df_provincias['Provincia'].str.upper()\n",
    "\n",
    "df_CCAA['CCAA'] = df_CCAA['CCAA'].str.normalize('NFKD').str.encode('ascii', errors='ignore').str.decode('utf-8')\n",
    "df_provincias['Provincia'] = df_provincias['Provincia'].str.normalize('NFKD').str.encode('ascii', errors='ignore').str.decode('utf-8')\n",
    "df_inc['Provincia'] = df_inc['Provincia'].str.normalize('NFKD').str.encode('ascii', errors='ignore').str.decode('utf-8')\n",
    "df_inc['CCAA'] = df_inc['CCAA'].str.normalize('NFKD').str.encode('ascii', errors='ignore').str.decode('utf-8')"
   ]
  },
  {
   "cell_type": "code",
   "execution_count": 4,
   "metadata": {},
   "outputs": [],
   "source": [
    "df_inc['Provincia'] = df_inc['Provincia'].str.normalize('NFKD').str.encode('ascii', errors='ignore').str.decode('utf-8')"
   ]
  },
  {
   "cell_type": "code",
   "execution_count": 5,
   "metadata": {},
   "outputs": [
    {
     "name": "stdout",
     "output_type": "stream",
     "text": [
      "<class 'pandas.core.frame.DataFrame'>\n",
      "RangeIndex: 6482 entries, 0 to 6481\n",
      "Data columns (total 42 columns):\n",
      "Fecha              6482 non-null object\n",
      "Mes                6482 non-null float64\n",
      "IdAhogado          6482 non-null int64\n",
      "IdPersona          6482 non-null int64\n",
      "Localidad          6482 non-null object\n",
      "Provincia          6482 non-null object\n",
      "CCAA               6482 non-null object\n",
      "Hora               5381 non-null object\n",
      "Latitud_inc        6482 non-null float64\n",
      "Longitud_inc       6482 non-null float64\n",
      "Sexo               6481 non-null object\n",
      "Edad               5366 non-null float64\n",
      "Nacionalidad       6482 non-null object\n",
      "Origen             6482 non-null object\n",
      "Extraccion         6482 non-null object\n",
      "Causa              6482 non-null object\n",
      "TipoAhogamiento    6482 non-null object\n",
      "Factor             6482 non-null object\n",
      "Intervencion       6482 non-null object\n",
      "Pronostico         6482 non-null object\n",
      "Localizacion       6482 non-null object\n",
      "Riesgo             6482 non-null object\n",
      "Reanimacion        6482 non-null object\n",
      "Vigilancia         6482 non-null object\n",
      "Actividad          6482 non-null object\n",
      "Deteccion          6482 non-null object\n",
      "ID                 6482 non-null int64\n",
      "Estacion           6482 non-null object\n",
      "Estado             6482 non-null object\n",
      "Latitud_est        6482 non-null float64\n",
      "Longitud_est       6482 non-null float64\n",
      "T_med              6482 non-null float64\n",
      "T_max              6482 non-null float64\n",
      "T_min              6482 non-null float64\n",
      "Precipitaciones    6482 non-null float64\n",
      "Presion            6482 non-null float64\n",
      "Dir. vi.           6467 non-null float64\n",
      "V_Viento           6482 non-null int64\n",
      "Nubosidad          6482 non-null float64\n",
      "ProfNievecm        4625 non-null float64\n",
      "InsolacHoras       4625 non-null float64\n",
      "Distancia          6482 non-null float64\n",
      "dtypes: float64(16), int64(4), object(22)\n",
      "memory usage: 2.1+ MB\n"
     ]
    }
   ],
   "source": [
    "df_inc.info()"
   ]
  },
  {
   "cell_type": "raw",
   "metadata": {},
   "source": [
    "df_inc=df_inc.replace('Sin datos', np.NaN)"
   ]
  },
  {
   "cell_type": "code",
   "execution_count": 6,
   "metadata": {},
   "outputs": [],
   "source": [
    "df_inc = pd.merge(df_inc, \n",
    "                  df_actividad,\n",
    "                  left_on=['Actividad'],\n",
    "                  right_on=['Actividad'],\n",
    "                  how='left')\n",
    "\n",
    "df_inc = pd.merge(df_inc, \n",
    "                  df_causa,\n",
    "                  left_on=['Causa'],\n",
    "                  right_on=['Causa'],\n",
    "                  how='left')\n",
    "\n",
    "df_inc = pd.merge(df_inc, \n",
    "                  df_deteccion,\n",
    "                  left_on=['Deteccion'],\n",
    "                  right_on=['Deteccion'],\n",
    "                  how='left')\n",
    "\n",
    "df_inc = pd.merge(df_inc, \n",
    "                  df_factores,\n",
    "                  left_on=['Factor'],\n",
    "                  right_on=['Factor'],\n",
    "                  how='left')\n",
    "\n",
    "df_inc = pd.merge(df_inc, \n",
    "                  df_intervencion,\n",
    "                  left_on=['Intervencion'],\n",
    "                  right_on=['Intervencion'],\n",
    "                  how='left')\n",
    "\n",
    "df_inc = pd.merge(df_inc, \n",
    "                  df_origen,\n",
    "                  left_on=['Origen'],\n",
    "                  right_on=['Origen'],\n",
    "                  how='left')\n",
    "\n",
    "df_inc = pd.merge(df_inc, \n",
    "                  df_pronostico,\n",
    "                  left_on=['Pronostico'],\n",
    "                  right_on=['Pronostico'],\n",
    "                  how='left')\n",
    "\n",
    "df_inc = pd.merge(df_inc, \n",
    "                  df_reanimacion,\n",
    "                  left_on=['Reanimacion'],\n",
    "                  right_on=['Reanimacion'],\n",
    "                  how='left')\n",
    "\n",
    "df_inc = pd.merge(df_inc, \n",
    "                  df_riesgo,\n",
    "                  left_on=['Riesgo'],\n",
    "                  right_on=['Riesgo'],\n",
    "                  how='left')\n",
    "\n",
    "df_inc = pd.merge(df_inc, \n",
    "                  df_tipo,\n",
    "                  left_on=['TipoAhogamiento'],\n",
    "                  right_on=['TipoAhogamiento'],\n",
    "                  how='left')\n",
    "\n",
    "df_inc = pd.merge(df_inc, \n",
    "                  df_vigilancia,\n",
    "                  left_on=['Vigilancia'],\n",
    "                  right_on=['Vigilancia'],\n",
    "                  how='left')\n",
    "\n",
    "\n",
    "\n",
    "df_inc = pd.merge(df_inc, \n",
    "                  df_CCAA,\n",
    "                  left_on=['CCAA'],\n",
    "                  right_on=['CCAA'],\n",
    "                  how='left')\n",
    "\n",
    "df_inc = pd.merge(df_inc, \n",
    "                  df_provincias,\n",
    "                  left_on=['Provincia'],\n",
    "                  right_on=['Provincia'],\n",
    "                  how='left')\n",
    "\n",
    "df_inc = pd.merge(df_inc, \n",
    "                  df_localizacion,\n",
    "                  left_on=['Localizacion'],\n",
    "                  right_on=['Localizacion'],\n",
    "                  how='left')"
   ]
  },
  {
   "cell_type": "code",
   "execution_count": 7,
   "metadata": {},
   "outputs": [
    {
     "name": "stdout",
     "output_type": "stream",
     "text": [
      "<class 'pandas.core.frame.DataFrame'>\n",
      "Int64Index: 6482 entries, 0 to 6481\n",
      "Data columns (total 61 columns):\n",
      "Fecha              6482 non-null object\n",
      "Mes                6482 non-null float64\n",
      "IdAhogado          6482 non-null int64\n",
      "IdPersona          6482 non-null int64\n",
      "Localidad          6482 non-null object\n",
      "Provincia          6482 non-null object\n",
      "CCAA               6482 non-null object\n",
      "Hora               5381 non-null object\n",
      "Latitud_inc        6482 non-null float64\n",
      "Longitud_inc       6482 non-null float64\n",
      "Sexo               6481 non-null object\n",
      "Edad               5366 non-null float64\n",
      "Nacionalidad       6482 non-null object\n",
      "Origen             6482 non-null object\n",
      "Extraccion         6482 non-null object\n",
      "Causa              6482 non-null object\n",
      "TipoAhogamiento    6482 non-null object\n",
      "Factor             6482 non-null object\n",
      "Intervencion       6482 non-null object\n",
      "Pronostico         6482 non-null object\n",
      "Localizacion       6482 non-null object\n",
      "Riesgo             6482 non-null object\n",
      "Reanimacion        6482 non-null object\n",
      "Vigilancia         6482 non-null object\n",
      "Actividad          6482 non-null object\n",
      "Deteccion          6482 non-null object\n",
      "ID                 6482 non-null int64\n",
      "Estacion           6482 non-null object\n",
      "Estado             6482 non-null object\n",
      "Latitud_est        6482 non-null float64\n",
      "Longitud_est       6482 non-null float64\n",
      "T_med              6482 non-null float64\n",
      "T_max              6482 non-null float64\n",
      "T_min              6482 non-null float64\n",
      "Precipitaciones    6482 non-null float64\n",
      "Presion            6482 non-null float64\n",
      "Dir. vi.           6467 non-null float64\n",
      "V_Viento           6482 non-null int64\n",
      "Nubosidad          6482 non-null float64\n",
      "ProfNievecm        4625 non-null float64\n",
      "InsolacHoras       4625 non-null float64\n",
      "Distancia          6482 non-null float64\n",
      "IdActividad        6482 non-null int64\n",
      "IdCausa            6482 non-null int64\n",
      "IdDeteccion        6482 non-null int64\n",
      "IdFactor           6482 non-null int64\n",
      "IdInterv           6482 non-null int64\n",
      "IdOrigen           6482 non-null int64\n",
      "IdPronostico       6482 non-null int64\n",
      "Mortal             6482 non-null int64\n",
      "IdReanima          6482 non-null int64\n",
      "IdRiesgo           6482 non-null int64\n",
      "IdTipo             6482 non-null int64\n",
      "IdVigilancia       6482 non-null int64\n",
      "IdCCAA_x           6482 non-null int64\n",
      "Poblacion          6482 non-null int64\n",
      "IdProv             6482 non-null int64\n",
      "IdCCAA_y           6482 non-null int64\n",
      "PobProv            6482 non-null int64\n",
      "Costa              6482 non-null int64\n",
      "IdLocal            6482 non-null int64\n",
      "dtypes: float64(16), int64(23), object(22)\n",
      "memory usage: 3.1+ MB\n"
     ]
    }
   ],
   "source": [
    "df_inc.info()"
   ]
  },
  {
   "cell_type": "code",
   "execution_count": 8,
   "metadata": {},
   "outputs": [
    {
     "data": {
      "text/plain": [
       "array(['Ahogamiento mortal', 'Rescate y traslado a supervisión médica',\n",
       "       'Ahogamiento no mortal con hospitalizacion',\n",
       "       'Fallecimiento Sin Ahogamiento', 'Traumatismo/TRM',\n",
       "       'Rescate sin consecuencias',\n",
       "       'Rescate con necesidad de observación posterior', 'Lesiones',\n",
       "       'Sin datos'], dtype=object)"
      ]
     },
     "execution_count": 8,
     "metadata": {},
     "output_type": "execute_result"
    }
   ],
   "source": [
    "df_inc.Pronostico.unique()"
   ]
  },
  {
   "cell_type": "code",
   "execution_count": 9,
   "metadata": {},
   "outputs": [
    {
     "data": {
      "text/plain": [
       "array(['Sin datos', 'Rescate sin consecuencias',\n",
       "       'Rescate y traslado a supervisión médica',\n",
       "       'Rescate con necesidad de observación posterior',\n",
       "       'Ahogamiento no mortal con rescate y tratamiento in situ',\n",
       "       'Ahogamiento no mortal sin secuelas',\n",
       "       'Ahogamiento no mortal con secuelas', 'Ahogamiento mortal',\n",
       "       'Ahogamiento no mortal con hospitalizacion', 'Traumatismo/TRM',\n",
       "       'Lesiones', 'Fallecimiento Sin Ahogamiento'], dtype=object)"
      ]
     },
     "execution_count": 9,
     "metadata": {},
     "output_type": "execute_result"
    }
   ],
   "source": [
    "df_pronostico.Pronostico.unique()"
   ]
  },
  {
   "cell_type": "code",
   "execution_count": 10,
   "metadata": {},
   "outputs": [],
   "source": [
    "df_inc=df_inc.drop(['Origen','Extraccion','Causa','TipoAhogamiento','Factor','Intervencion','Pronostico','Localizacion','Riesgo','Reanimacion','Vigilancia','Actividad','Deteccion','IdCCAA_y'], axis=1)"
   ]
  },
  {
   "cell_type": "code",
   "execution_count": 11,
   "metadata": {
    "scrolled": false
   },
   "outputs": [
    {
     "name": "stdout",
     "output_type": "stream",
     "text": [
      "<class 'pandas.core.frame.DataFrame'>\n",
      "Int64Index: 6482 entries, 0 to 6481\n",
      "Data columns (total 47 columns):\n",
      "Fecha              6482 non-null object\n",
      "Mes                6482 non-null float64\n",
      "IdAhogado          6482 non-null int64\n",
      "IdPersona          6482 non-null int64\n",
      "Localidad          6482 non-null object\n",
      "Provincia          6482 non-null object\n",
      "CCAA               6482 non-null object\n",
      "Hora               5381 non-null object\n",
      "Latitud_inc        6482 non-null float64\n",
      "Longitud_inc       6482 non-null float64\n",
      "Sexo               6481 non-null object\n",
      "Edad               5366 non-null float64\n",
      "Nacionalidad       6482 non-null object\n",
      "ID                 6482 non-null int64\n",
      "Estacion           6482 non-null object\n",
      "Estado             6482 non-null object\n",
      "Latitud_est        6482 non-null float64\n",
      "Longitud_est       6482 non-null float64\n",
      "T_med              6482 non-null float64\n",
      "T_max              6482 non-null float64\n",
      "T_min              6482 non-null float64\n",
      "Precipitaciones    6482 non-null float64\n",
      "Presion            6482 non-null float64\n",
      "Dir. vi.           6467 non-null float64\n",
      "V_Viento           6482 non-null int64\n",
      "Nubosidad          6482 non-null float64\n",
      "ProfNievecm        4625 non-null float64\n",
      "InsolacHoras       4625 non-null float64\n",
      "Distancia          6482 non-null float64\n",
      "IdActividad        6482 non-null int64\n",
      "IdCausa            6482 non-null int64\n",
      "IdDeteccion        6482 non-null int64\n",
      "IdFactor           6482 non-null int64\n",
      "IdInterv           6482 non-null int64\n",
      "IdOrigen           6482 non-null int64\n",
      "IdPronostico       6482 non-null int64\n",
      "Mortal             6482 non-null int64\n",
      "IdReanima          6482 non-null int64\n",
      "IdRiesgo           6482 non-null int64\n",
      "IdTipo             6482 non-null int64\n",
      "IdVigilancia       6482 non-null int64\n",
      "IdCCAA_x           6482 non-null int64\n",
      "Poblacion          6482 non-null int64\n",
      "IdProv             6482 non-null int64\n",
      "PobProv            6482 non-null int64\n",
      "Costa              6482 non-null int64\n",
      "IdLocal            6482 non-null int64\n",
      "dtypes: float64(16), int64(22), object(9)\n",
      "memory usage: 2.4+ MB\n"
     ]
    }
   ],
   "source": [
    "df_inc.info()"
   ]
  },
  {
   "cell_type": "raw",
   "metadata": {},
   "source": [
    "df_inc['IdActividad']=df_inc['IdActividad'].fillna(value=0)\n",
    "df_inc['IdCausa']=df_inc['IdCausa'].fillna(value=0)\n",
    "df_inc['IdDeteccion']=df_inc['IdDeteccion'].fillna(value=0)\n",
    "df_inc['IdFactor']=df_inc['IdFactor'].fillna(value=0)\n",
    "df_inc['IdInterv']=df_inc['IdInterv'].fillna(value=0)\n",
    "df_inc['IdOrigen']=df_inc['IdOrigen'].fillna(value=0)\n",
    "df_inc['IdPronostico']=df_inc['IdPronostico'].fillna(value=0)\n",
    "df_inc['IdReanima']=df_inc['IdReanima'].fillna(value=0)\n",
    "df_inc['IdRiesgo']=df_inc['IdRiesgo'].fillna(value=0)\n",
    "df_inc['IdTipo']=df_inc['IdTipo'].fillna(value=0)\n",
    "df_inc['IdVigilancia']=df_inc['IdVigilancia'].fillna(value=4)\n",
    "df_inc['Poblacion']=df_inc['Poblacion'].fillna(value=0)\n",
    "df_inc['IdLocal']=df_inc['IdLocal'].fillna(value=0)\n"
   ]
  },
  {
   "cell_type": "code",
   "execution_count": 12,
   "metadata": {},
   "outputs": [],
   "source": [
    "df_inc=df_inc[df_inc.CCAA != 'CANARIAS']\n",
    "#df_inc=df_inc[df_inc.CCAA != 'CEUTA']\n",
    "#df_inc=df_inc[df_inc.CCAA != 'MELILLA']"
   ]
  },
  {
   "cell_type": "code",
   "execution_count": 13,
   "metadata": {},
   "outputs": [
    {
     "name": "stdout",
     "output_type": "stream",
     "text": [
      "<class 'pandas.core.frame.DataFrame'>\n",
      "Int64Index: 5468 entries, 0 to 6481\n",
      "Data columns (total 47 columns):\n",
      "Fecha              5468 non-null object\n",
      "Mes                5468 non-null float64\n",
      "IdAhogado          5468 non-null int64\n",
      "IdPersona          5468 non-null int64\n",
      "Localidad          5468 non-null object\n",
      "Provincia          5468 non-null object\n",
      "CCAA               5468 non-null object\n",
      "Hora               4477 non-null object\n",
      "Latitud_inc        5468 non-null float64\n",
      "Longitud_inc       5468 non-null float64\n",
      "Sexo               5467 non-null object\n",
      "Edad               4510 non-null float64\n",
      "Nacionalidad       5468 non-null object\n",
      "ID                 5468 non-null int64\n",
      "Estacion           5468 non-null object\n",
      "Estado             5468 non-null object\n",
      "Latitud_est        5468 non-null float64\n",
      "Longitud_est       5468 non-null float64\n",
      "T_med              5468 non-null float64\n",
      "T_max              5468 non-null float64\n",
      "T_min              5468 non-null float64\n",
      "Precipitaciones    5468 non-null float64\n",
      "Presion            5468 non-null float64\n",
      "Dir. vi.           5463 non-null float64\n",
      "V_Viento           5468 non-null int64\n",
      "Nubosidad          5468 non-null float64\n",
      "ProfNievecm        4218 non-null float64\n",
      "InsolacHoras       4218 non-null float64\n",
      "Distancia          5468 non-null float64\n",
      "IdActividad        5468 non-null int64\n",
      "IdCausa            5468 non-null int64\n",
      "IdDeteccion        5468 non-null int64\n",
      "IdFactor           5468 non-null int64\n",
      "IdInterv           5468 non-null int64\n",
      "IdOrigen           5468 non-null int64\n",
      "IdPronostico       5468 non-null int64\n",
      "Mortal             5468 non-null int64\n",
      "IdReanima          5468 non-null int64\n",
      "IdRiesgo           5468 non-null int64\n",
      "IdTipo             5468 non-null int64\n",
      "IdVigilancia       5468 non-null int64\n",
      "IdCCAA_x           5468 non-null int64\n",
      "Poblacion          5468 non-null int64\n",
      "IdProv             5468 non-null int64\n",
      "PobProv            5468 non-null int64\n",
      "Costa              5468 non-null int64\n",
      "IdLocal            5468 non-null int64\n",
      "dtypes: float64(16), int64(22), object(9)\n",
      "memory usage: 2.0+ MB\n"
     ]
    }
   ],
   "source": [
    "df_inc.info()"
   ]
  },
  {
   "cell_type": "code",
   "execution_count": 14,
   "metadata": {},
   "outputs": [],
   "source": [
    "df_inc=df_inc.rename(columns={\"IdCCAA_x\": \"IdCCAA\"})\n",
    "df_inc=df_inc.rename(columns={\"Dir. vi.\": \"Dir_viento\"})"
   ]
  },
  {
   "cell_type": "code",
   "execution_count": 15,
   "metadata": {},
   "outputs": [
    {
     "name": "stdout",
     "output_type": "stream",
     "text": [
      "<class 'pandas.core.frame.DataFrame'>\n",
      "Int64Index: 5468 entries, 0 to 6481\n",
      "Data columns (total 47 columns):\n",
      "Fecha              5468 non-null object\n",
      "Mes                5468 non-null float64\n",
      "IdAhogado          5468 non-null int64\n",
      "IdPersona          5468 non-null int64\n",
      "Localidad          5468 non-null object\n",
      "Provincia          5468 non-null object\n",
      "CCAA               5468 non-null object\n",
      "Hora               4477 non-null object\n",
      "Latitud_inc        5468 non-null float64\n",
      "Longitud_inc       5468 non-null float64\n",
      "Sexo               5467 non-null object\n",
      "Edad               4510 non-null float64\n",
      "Nacionalidad       5468 non-null object\n",
      "ID                 5468 non-null int64\n",
      "Estacion           5468 non-null object\n",
      "Estado             5468 non-null object\n",
      "Latitud_est        5468 non-null float64\n",
      "Longitud_est       5468 non-null float64\n",
      "T_med              5468 non-null float64\n",
      "T_max              5468 non-null float64\n",
      "T_min              5468 non-null float64\n",
      "Precipitaciones    5468 non-null float64\n",
      "Presion            5468 non-null float64\n",
      "Dir_viento         5463 non-null float64\n",
      "V_Viento           5468 non-null int64\n",
      "Nubosidad          5468 non-null float64\n",
      "ProfNievecm        4218 non-null float64\n",
      "InsolacHoras       4218 non-null float64\n",
      "Distancia          5468 non-null float64\n",
      "IdActividad        5468 non-null int64\n",
      "IdCausa            5468 non-null int64\n",
      "IdDeteccion        5468 non-null int64\n",
      "IdFactor           5468 non-null int64\n",
      "IdInterv           5468 non-null int64\n",
      "IdOrigen           5468 non-null int64\n",
      "IdPronostico       5468 non-null int64\n",
      "Mortal             5468 non-null int64\n",
      "IdReanima          5468 non-null int64\n",
      "IdRiesgo           5468 non-null int64\n",
      "IdTipo             5468 non-null int64\n",
      "IdVigilancia       5468 non-null int64\n",
      "IdCCAA             5468 non-null int64\n",
      "Poblacion          5468 non-null int64\n",
      "IdProv             5468 non-null int64\n",
      "PobProv            5468 non-null int64\n",
      "Costa              5468 non-null int64\n",
      "IdLocal            5468 non-null int64\n",
      "dtypes: float64(16), int64(22), object(9)\n",
      "memory usage: 2.0+ MB\n"
     ]
    }
   ],
   "source": [
    "df_inc.info()"
   ]
  },
  {
   "cell_type": "code",
   "execution_count": 16,
   "metadata": {},
   "outputs": [],
   "source": [
    "df_inc.to_csv('../DATASETS/AHOGADOS/CSV/historico_inc_est_meteo_codigos_test.csv',sep='|',header=True,index=False)"
   ]
  }
 ],
 "metadata": {
  "kernelspec": {
   "display_name": "Python 3",
   "language": "python",
   "name": "python3"
  },
  "language_info": {
   "codemirror_mode": {
    "name": "ipython",
    "version": 3
   },
   "file_extension": ".py",
   "mimetype": "text/x-python",
   "name": "python",
   "nbconvert_exporter": "python",
   "pygments_lexer": "ipython3",
   "version": "3.7.4"
  }
 },
 "nbformat": 4,
 "nbformat_minor": 2
}
