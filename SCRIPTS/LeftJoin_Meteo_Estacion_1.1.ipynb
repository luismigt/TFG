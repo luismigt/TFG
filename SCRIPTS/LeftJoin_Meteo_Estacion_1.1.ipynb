{
 "cells": [
  {
   "cell_type": "markdown",
   "metadata": {},
   "source": [
    "# LeftJoin_Meteo_Estacion_1.1"
   ]
  },
  {
   "cell_type": "markdown",
   "metadata": {},
   "source": [
    "En este script vamos a tratar de conseguir lo que no hicimos en la version 1.0, a saber, tener en un mismo fichero la relacion de estaciones-meteo-coordenadas.\n",
    "\n",
    "Para alcanzar este objetivo primero hemos acudido al codigo fuente de la pagina web de la que obtenemos los datos de meteo, y hemos conseguido un listado de las estaciones con su id asociado, montando un fichero csv (estaciones_codigo_fuente_def.csv).\n",
    "\n",
    "Posteriormente hemos montado un fichero que contiene ID, Estacion y sus coordenadas (estaciones_coordenadas_2.csv).\n",
    "\n",
    "Una vez hecho esto, desarrollamos el script para relacionar estaciones-meteo-coordenadas (historico_estaciones_coordenadas_2.csv).\n"
   ]
  },
  {
   "cell_type": "code",
   "execution_count": 1,
   "metadata": {},
   "outputs": [],
   "source": [
    "#Leemos los ficheros: \n",
    "#en el primero tenemos la relacion ID-ESTACION de la web\n",
    "#en el segundo el listado de estaciones con sus coordenadas, obtenido del dropbox\n",
    "import numpy as np\n",
    "import pandas as pd\n",
    "\n",
    "df_est_cf=pd.read_csv('../DATASETS/ESTACIONES/estaciones_codigo_fuente_def.csv',sep='|',error_bad_lines=False)\n",
    "df_estaciones = pd.read_csv('../DATASETS/ESTACIONES/OMM_Estaciones.csv',sep='|',error_bad_lines=False)"
   ]
  },
  {
   "cell_type": "code",
   "execution_count": 2,
   "metadata": {},
   "outputs": [
    {
     "data": {
      "text/html": [
       "<div>\n",
       "<style scoped>\n",
       "    .dataframe tbody tr th:only-of-type {\n",
       "        vertical-align: middle;\n",
       "    }\n",
       "\n",
       "    .dataframe tbody tr th {\n",
       "        vertical-align: top;\n",
       "    }\n",
       "\n",
       "    .dataframe thead th {\n",
       "        text-align: right;\n",
       "    }\n",
       "</style>\n",
       "<table border=\"1\" class=\"dataframe\">\n",
       "  <thead>\n",
       "    <tr style=\"text-align: right;\">\n",
       "      <th></th>\n",
       "      <th>ID</th>\n",
       "      <th>ESTACION</th>\n",
       "    </tr>\n",
       "  </thead>\n",
       "  <tbody>\n",
       "    <tr>\n",
       "      <th>0</th>\n",
       "      <td>8427</td>\n",
       "      <td>ABLA</td>\n",
       "    </tr>\n",
       "    <tr>\n",
       "      <th>1</th>\n",
       "      <td>8486</td>\n",
       "      <td>ADRA,CLUB NAUTICO</td>\n",
       "    </tr>\n",
       "    <tr>\n",
       "      <th>2</th>\n",
       "      <td>8432</td>\n",
       "      <td>AGUILAS</td>\n",
       "    </tr>\n",
       "    <tr>\n",
       "      <th>3</th>\n",
       "      <td>8019</td>\n",
       "      <td>AGUION</td>\n",
       "    </tr>\n",
       "    <tr>\n",
       "      <th>4</th>\n",
       "      <td>8380</td>\n",
       "      <td>ALAJAR, CABEZO MOLIN</td>\n",
       "    </tr>\n",
       "  </tbody>\n",
       "</table>\n",
       "</div>"
      ],
      "text/plain": [
       "     ID              ESTACION\n",
       "0  8427                  ABLA\n",
       "1  8486     ADRA,CLUB NAUTICO\n",
       "2  8432               AGUILAS\n",
       "3  8019                AGUION\n",
       "4  8380  ALAJAR, CABEZO MOLIN"
      ]
     },
     "execution_count": 2,
     "metadata": {},
     "output_type": "execute_result"
    }
   ],
   "source": [
    "#Analizamos el numero de campos, registras, asi como su tipo\n",
    "df_est_cf.head()"
   ]
  },
  {
   "cell_type": "code",
   "execution_count": 3,
   "metadata": {},
   "outputs": [
    {
     "data": {
      "text/html": [
       "<div>\n",
       "<style scoped>\n",
       "    .dataframe tbody tr th:only-of-type {\n",
       "        vertical-align: middle;\n",
       "    }\n",
       "\n",
       "    .dataframe tbody tr th {\n",
       "        vertical-align: top;\n",
       "    }\n",
       "\n",
       "    .dataframe thead th {\n",
       "        text-align: right;\n",
       "    }\n",
       "</style>\n",
       "<table border=\"1\" class=\"dataframe\">\n",
       "  <thead>\n",
       "    <tr style=\"text-align: right;\">\n",
       "      <th></th>\n",
       "      <th>IIiii</th>\n",
       "      <th>OACI</th>\n",
       "      <th>Nombre</th>\n",
       "      <th>Estado</th>\n",
       "      <th>Latitud</th>\n",
       "      <th>Longitud</th>\n",
       "      <th>Altitud</th>\n",
       "      <th>Notas</th>\n",
       "    </tr>\n",
       "  </thead>\n",
       "  <tbody>\n",
       "    <tr>\n",
       "      <th>0</th>\n",
       "      <td>8427.0</td>\n",
       "      <td>NaN</td>\n",
       "      <td>ABLA</td>\n",
       "      <td>SPAIN</td>\n",
       "      <td>37-08-29N</td>\n",
       "      <td>002-46-46W</td>\n",
       "      <td>885</td>\n",
       "      <td>NaN</td>\n",
       "    </tr>\n",
       "    <tr>\n",
       "      <th>1</th>\n",
       "      <td>NaN</td>\n",
       "      <td>LETU</td>\n",
       "      <td>ABLITAS, AERODROMO</td>\n",
       "      <td>SPAIN</td>\n",
       "      <td>42-00-40N</td>\n",
       "      <td>001-37-26W</td>\n",
       "      <td>324</td>\n",
       "      <td>NaN</td>\n",
       "    </tr>\n",
       "    <tr>\n",
       "      <th>2</th>\n",
       "      <td>8486.0</td>\n",
       "      <td>NaN</td>\n",
       "      <td>ADRA - CLUB NAUTICO</td>\n",
       "      <td>SPAIN</td>\n",
       "      <td>36-44-48N</td>\n",
       "      <td>003-01-14W</td>\n",
       "      <td>8</td>\n",
       "      <td>NaN</td>\n",
       "    </tr>\n",
       "    <tr>\n",
       "      <th>3</th>\n",
       "      <td>8432.0</td>\n",
       "      <td>NaN</td>\n",
       "      <td>AGUILAS</td>\n",
       "      <td>SPAIN</td>\n",
       "      <td>37-25-00N</td>\n",
       "      <td>001-35-12W</td>\n",
       "      <td>32</td>\n",
       "      <td>NaN</td>\n",
       "    </tr>\n",
       "    <tr>\n",
       "      <th>4</th>\n",
       "      <td>8019.0</td>\n",
       "      <td>NaN</td>\n",
       "      <td>AGUION</td>\n",
       "      <td>SPAIN</td>\n",
       "      <td>43-28N</td>\n",
       "      <td>006-18W</td>\n",
       "      <td>923</td>\n",
       "      <td>NaN</td>\n",
       "    </tr>\n",
       "  </tbody>\n",
       "</table>\n",
       "</div>"
      ],
      "text/plain": [
       "    IIiii  OACI               Nombre Estado    Latitud    Longitud  Altitud  \\\n",
       "0  8427.0   NaN                 ABLA  SPAIN  37-08-29N  002-46-46W      885   \n",
       "1     NaN  LETU   ABLITAS, AERODROMO  SPAIN  42-00-40N  001-37-26W      324   \n",
       "2  8486.0   NaN  ADRA - CLUB NAUTICO  SPAIN  36-44-48N  003-01-14W        8   \n",
       "3  8432.0   NaN              AGUILAS  SPAIN  37-25-00N  001-35-12W       32   \n",
       "4  8019.0   NaN               AGUION  SPAIN     43-28N     006-18W      923   \n",
       "\n",
       "  Notas  \n",
       "0   NaN  \n",
       "1   NaN  \n",
       "2   NaN  \n",
       "3   NaN  \n",
       "4   NaN  "
      ]
     },
     "execution_count": 3,
     "metadata": {},
     "output_type": "execute_result"
    }
   ],
   "source": [
    "df_estaciones.head()"
   ]
  },
  {
   "cell_type": "code",
   "execution_count": 4,
   "metadata": {},
   "outputs": [],
   "source": [
    "#left join para añadir al dataset de id-estacion las coordenadas de las estaciones\n",
    "\n",
    "result = pd.merge(df_est_cf, \n",
    "                  df_estaciones[['IIiii','Latitud','Longitud']],\n",
    "                  left_on='ID',\n",
    "                  right_on='IIiii',\n",
    "                  how='left')"
   ]
  },
  {
   "cell_type": "code",
   "execution_count": 5,
   "metadata": {},
   "outputs": [
    {
     "name": "stdout",
     "output_type": "stream",
     "text": [
      "<class 'pandas.core.frame.DataFrame'>\n",
      "Int64Index: 269 entries, 0 to 268\n",
      "Data columns (total 5 columns):\n",
      "ID          269 non-null int64\n",
      "ESTACION    269 non-null object\n",
      "IIiii       269 non-null float64\n",
      "Latitud     269 non-null object\n",
      "Longitud    269 non-null object\n",
      "dtypes: float64(1), int64(1), object(3)\n",
      "memory usage: 12.6+ KB\n"
     ]
    }
   ],
   "source": [
    "result.info()"
   ]
  },
  {
   "cell_type": "code",
   "execution_count": 6,
   "metadata": {},
   "outputs": [],
   "source": [
    "result=result[['ID','ESTACION','Latitud','Longitud']]"
   ]
  },
  {
   "cell_type": "code",
   "execution_count": 7,
   "metadata": {},
   "outputs": [
    {
     "name": "stdout",
     "output_type": "stream",
     "text": [
      "<class 'pandas.core.frame.DataFrame'>\n",
      "Int64Index: 269 entries, 0 to 268\n",
      "Data columns (total 4 columns):\n",
      "ID          269 non-null int64\n",
      "ESTACION    269 non-null object\n",
      "Latitud     269 non-null object\n",
      "Longitud    269 non-null object\n",
      "dtypes: int64(1), object(3)\n",
      "memory usage: 10.5+ KB\n"
     ]
    }
   ],
   "source": [
    "result.info()"
   ]
  },
  {
   "cell_type": "code",
   "execution_count": 8,
   "metadata": {},
   "outputs": [],
   "source": [
    "result.to_csv('../DATASETS/ESTACIONES/estaciones_coordenadas.csv',sep='|',header=True,index=False)"
   ]
  },
  {
   "cell_type": "code",
   "execution_count": 9,
   "metadata": {},
   "outputs": [
    {
     "data": {
      "text/html": [
       "<div>\n",
       "<style scoped>\n",
       "    .dataframe tbody tr th:only-of-type {\n",
       "        vertical-align: middle;\n",
       "    }\n",
       "\n",
       "    .dataframe tbody tr th {\n",
       "        vertical-align: top;\n",
       "    }\n",
       "\n",
       "    .dataframe thead th {\n",
       "        text-align: right;\n",
       "    }\n",
       "</style>\n",
       "<table border=\"1\" class=\"dataframe\">\n",
       "  <thead>\n",
       "    <tr style=\"text-align: right;\">\n",
       "      <th></th>\n",
       "      <th>IIiii</th>\n",
       "      <th>OACI</th>\n",
       "      <th>Nombre</th>\n",
       "      <th>Estado</th>\n",
       "      <th>Latitud</th>\n",
       "      <th>Longitud</th>\n",
       "      <th>Altitud</th>\n",
       "      <th>Notas</th>\n",
       "    </tr>\n",
       "  </thead>\n",
       "  <tbody>\n",
       "    <tr>\n",
       "      <th>50</th>\n",
       "      <td>8165.0</td>\n",
       "      <td>NaN</td>\n",
       "      <td>BUJARALOZ</td>\n",
       "      <td>SPAIN</td>\n",
       "      <td>41-31-18N</td>\n",
       "      <td>000-10-27W</td>\n",
       "      <td>357</td>\n",
       "      <td>Hasta 20180611</td>\n",
       "    </tr>\n",
       "    <tr>\n",
       "      <th>71</th>\n",
       "      <td>8165.0</td>\n",
       "      <td>NaN</td>\n",
       "      <td>CASPER</td>\n",
       "      <td>SPAIN</td>\n",
       "      <td>41-14-32N</td>\n",
       "      <td>000-04-06W</td>\n",
       "      <td>203</td>\n",
       "      <td>Desde 20180612</td>\n",
       "    </tr>\n",
       "    <tr>\n",
       "      <th>65</th>\n",
       "      <td>8936.0</td>\n",
       "      <td>NaN</td>\n",
       "      <td>CAP DE VAQUEIRA</td>\n",
       "      <td>SPAIN</td>\n",
       "      <td>42-41-31N</td>\n",
       "      <td>000-58-26E</td>\n",
       "      <td>2467</td>\n",
       "      <td>Desde 20141101</td>\n",
       "    </tr>\n",
       "    <tr>\n",
       "      <th>271</th>\n",
       "      <td>8936.0</td>\n",
       "      <td>NaN</td>\n",
       "      <td>SORT</td>\n",
       "      <td>SPAIN</td>\n",
       "      <td>42-25N</td>\n",
       "      <td>001-08E</td>\n",
       "      <td>680</td>\n",
       "      <td>Hasta 20141101</td>\n",
       "    </tr>\n",
       "    <tr>\n",
       "      <th>64</th>\n",
       "      <td>8940.0</td>\n",
       "      <td>NaN</td>\n",
       "      <td>CAP DE RAC</td>\n",
       "      <td>SPAIN</td>\n",
       "      <td>42-25-49N</td>\n",
       "      <td>001-40-04E</td>\n",
       "      <td>1940</td>\n",
       "      <td>Desde 20141101</td>\n",
       "    </tr>\n",
       "    <tr>\n",
       "      <th>279</th>\n",
       "      <td>8940.0</td>\n",
       "      <td>NaN</td>\n",
       "      <td>TAVESCAN</td>\n",
       "      <td>SPAIN</td>\n",
       "      <td>42-38N</td>\n",
       "      <td>001-15E</td>\n",
       "      <td>1100</td>\n",
       "      <td>Hasta 20141101</td>\n",
       "    </tr>\n",
       "  </tbody>\n",
       "</table>\n",
       "</div>"
      ],
      "text/plain": [
       "      IIiii OACI           Nombre Estado    Latitud    Longitud  Altitud  \\\n",
       "50   8165.0  NaN        BUJARALOZ  SPAIN  41-31-18N  000-10-27W      357   \n",
       "71   8165.0  NaN           CASPER  SPAIN  41-14-32N  000-04-06W      203   \n",
       "65   8936.0  NaN  CAP DE VAQUEIRA  SPAIN  42-41-31N  000-58-26E     2467   \n",
       "271  8936.0  NaN             SORT  SPAIN     42-25N     001-08E      680   \n",
       "64   8940.0  NaN       CAP DE RAC  SPAIN  42-25-49N  001-40-04E     1940   \n",
       "279  8940.0  NaN         TAVESCAN  SPAIN     42-38N     001-15E     1100   \n",
       "\n",
       "              Notas  \n",
       "50   Hasta 20180611  \n",
       "71   Desde 20180612  \n",
       "65   Desde 20141101  \n",
       "271  Hasta 20141101  \n",
       "64   Desde 20141101  \n",
       "279  Hasta 20141101  "
      ]
     },
     "execution_count": 9,
     "metadata": {},
     "output_type": "execute_result"
    }
   ],
   "source": [
    "pd.concat(g for _, g in df_estaciones.groupby(\"IIiii\") if len(g) > 1)"
   ]
  },
  {
   "cell_type": "markdown",
   "metadata": {},
   "source": [
    "se puede observar que tenemos duplicados en 3 estaciones. esto se debe a que la estacion asociada al id, en cada caso, ha tenido dos localizaciones. lo que haremos sera eliminar estos duplicados del fichero \"OMM_Estaciones.csv\" y nos quedaremos con la que aparece en el codigo fuente de la web, y que a su vez es la que está vigente. El nuevo csv sin duplicados lo llamaremos OMM_Estaciones_NoDupli.csv"
   ]
  },
  {
   "cell_type": "code",
   "execution_count": 10,
   "metadata": {},
   "outputs": [
    {
     "name": "stdout",
     "output_type": "stream",
     "text": [
      "<class 'pandas.core.frame.DataFrame'>\n",
      "Int64Index: 304 entries, 286 to 322\n",
      "Data columns (total 8 columns):\n",
      "IIiii       303 non-null float64\n",
      "OACI        52 non-null object\n",
      "Nombre      304 non-null object\n",
      "Estado      304 non-null object\n",
      "Latitud     304 non-null object\n",
      "Longitud    304 non-null object\n",
      "Altitud     304 non-null int64\n",
      "Notas       6 non-null object\n",
      "dtypes: float64(1), int64(1), object(6)\n",
      "memory usage: 21.4+ KB\n"
     ]
    }
   ],
   "source": [
    "df_NoDupli=df_estaciones.sort_values(by=['Notas'])\n",
    "#df_NoDupli.head(n=15)\n",
    "\n",
    "df_NoDupli=df_NoDupli.drop_duplicates(['IIiii'], keep='first')\n",
    "df_NoDupli.info()"
   ]
  },
  {
   "cell_type": "code",
   "execution_count": 11,
   "metadata": {},
   "outputs": [],
   "source": [
    "df_NoDupli.to_csv('../DATASETS/ESTACIONES/OMM_Estaciones_NoDupli.csv',sep='|',header=True,index=False)"
   ]
  },
  {
   "cell_type": "code",
   "execution_count": 12,
   "metadata": {},
   "outputs": [],
   "source": [
    "#left join para añadir al dataset de meteo las coordenadas de las estaciones\n",
    "\n",
    "result_2 = pd.merge(df_est_cf, \n",
    "                  df_NoDupli,\n",
    "                  left_on='ID',\n",
    "                  right_on='IIiii',\n",
    "                  how='left')"
   ]
  },
  {
   "cell_type": "code",
   "execution_count": 13,
   "metadata": {},
   "outputs": [
    {
     "name": "stdout",
     "output_type": "stream",
     "text": [
      "<class 'pandas.core.frame.DataFrame'>\n",
      "Int64Index: 266 entries, 0 to 265\n",
      "Data columns (total 10 columns):\n",
      "ID          266 non-null int64\n",
      "ESTACION    266 non-null object\n",
      "IIiii       266 non-null float64\n",
      "OACI        42 non-null object\n",
      "Nombre      266 non-null object\n",
      "Estado      266 non-null object\n",
      "Latitud     266 non-null object\n",
      "Longitud    266 non-null object\n",
      "Altitud     266 non-null int64\n",
      "Notas       5 non-null object\n",
      "dtypes: float64(1), int64(2), object(7)\n",
      "memory usage: 22.9+ KB\n"
     ]
    }
   ],
   "source": [
    "result_2.info()"
   ]
  },
  {
   "cell_type": "code",
   "execution_count": 14,
   "metadata": {},
   "outputs": [],
   "source": [
    "result_2=result_2[['ID','ESTACION','Estado','Latitud','Longitud']]"
   ]
  },
  {
   "cell_type": "code",
   "execution_count": 15,
   "metadata": {},
   "outputs": [
    {
     "name": "stdout",
     "output_type": "stream",
     "text": [
      "<class 'pandas.core.frame.DataFrame'>\n",
      "Int64Index: 266 entries, 0 to 265\n",
      "Data columns (total 5 columns):\n",
      "ID          266 non-null int64\n",
      "ESTACION    266 non-null object\n",
      "Estado      266 non-null object\n",
      "Latitud     266 non-null object\n",
      "Longitud    266 non-null object\n",
      "dtypes: int64(1), object(4)\n",
      "memory usage: 12.5+ KB\n"
     ]
    }
   ],
   "source": [
    "result_2.info()"
   ]
  },
  {
   "cell_type": "code",
   "execution_count": 16,
   "metadata": {},
   "outputs": [],
   "source": [
    "result_2.to_csv('../DATASETS/ESTACIONES/estaciones_coordenadas_2.csv',sep='|',header=True,index=False)"
   ]
  },
  {
   "cell_type": "markdown",
   "metadata": {},
   "source": [
    "Con esto hemos conseguido el objetivo de relacionar estacion-coordenadas. A continuacion incluimos en la ecuacion los datos de meteo:"
   ]
  },
  {
   "cell_type": "code",
   "execution_count": 17,
   "metadata": {},
   "outputs": [],
   "source": [
    "df_meteo=pd.read_csv('../DATASETS/ESTACIONES/historico_estaciones.csv',sep='|',error_bad_lines=False)"
   ]
  },
  {
   "cell_type": "code",
   "execution_count": 18,
   "metadata": {},
   "outputs": [],
   "source": [
    "df_meteo['Estacion'].replace(':','', inplace=True, regex=True)"
   ]
  },
  {
   "cell_type": "code",
   "execution_count": 19,
   "metadata": {},
   "outputs": [
    {
     "name": "stdout",
     "output_type": "stream",
     "text": [
      "<class 'pandas.core.frame.DataFrame'>\n",
      "RangeIndex: 359612 entries, 0 to 359611\n",
      "Data columns (total 12 columns):\n",
      "Estacion            359612 non-null object\n",
      "Fecha               359612 non-null object\n",
      "T. med. (ºC)        359612 non-null object\n",
      "T. max (ºC)         359612 non-null object\n",
      "T. min (ºC)         359612 non-null object\n",
      "Prec. (mm)          359612 non-null object\n",
      "Presion/ Geopot.    359612 non-null object\n",
      "Dir. vi.            359612 non-null object\n",
      "Vel. vi. (Km/h)     359612 non-null object\n",
      "Nub.                359612 non-null object\n",
      "Prof. nieve (cm)    359612 non-null object\n",
      "Insolac. (horas)    283707 non-null object\n",
      "dtypes: object(12)\n",
      "memory usage: 32.9+ MB\n"
     ]
    }
   ],
   "source": [
    "df_meteo.info()"
   ]
  },
  {
   "cell_type": "code",
   "execution_count": 20,
   "metadata": {},
   "outputs": [
    {
     "data": {
      "text/html": [
       "<div>\n",
       "<style scoped>\n",
       "    .dataframe tbody tr th:only-of-type {\n",
       "        vertical-align: middle;\n",
       "    }\n",
       "\n",
       "    .dataframe tbody tr th {\n",
       "        vertical-align: top;\n",
       "    }\n",
       "\n",
       "    .dataframe thead th {\n",
       "        text-align: right;\n",
       "    }\n",
       "</style>\n",
       "<table border=\"1\" class=\"dataframe\">\n",
       "  <thead>\n",
       "    <tr style=\"text-align: right;\">\n",
       "      <th></th>\n",
       "      <th>Estacion</th>\n",
       "      <th>Fecha</th>\n",
       "      <th>T. med. (ºC)</th>\n",
       "      <th>T. max (ºC)</th>\n",
       "      <th>T. min (ºC)</th>\n",
       "      <th>Prec. (mm)</th>\n",
       "      <th>Presion/ Geopot.</th>\n",
       "      <th>Dir. vi.</th>\n",
       "      <th>Vel. vi. (Km/h)</th>\n",
       "      <th>Nub.</th>\n",
       "      <th>Prof. nieve (cm)</th>\n",
       "      <th>Insolac. (horas)</th>\n",
       "    </tr>\n",
       "  </thead>\n",
       "  <tbody>\n",
       "    <tr>\n",
       "      <th>0</th>\n",
       "      <td>LA CORUNA</td>\n",
       "      <td>31/01/2011</td>\n",
       "      <td>8.3</td>\n",
       "      <td>10.4</td>\n",
       "      <td>6.2</td>\n",
       "      <td>0.0</td>\n",
       "      <td>1024.1 Hpa</td>\n",
       "      <td>65º(NE)</td>\n",
       "      <td>14</td>\n",
       "      <td>7/8</td>\n",
       "      <td>-</td>\n",
       "      <td>0.7</td>\n",
       "    </tr>\n",
       "    <tr>\n",
       "      <th>1</th>\n",
       "      <td>LUGO/ROZAS</td>\n",
       "      <td>31/01/2011</td>\n",
       "      <td>2.6</td>\n",
       "      <td>4.4</td>\n",
       "      <td>0.9</td>\n",
       "      <td>0.2</td>\n",
       "      <td>1024.3 Hpa</td>\n",
       "      <td>325º(NW)</td>\n",
       "      <td>2</td>\n",
       "      <td>8/8</td>\n",
       "      <td>-</td>\n",
       "      <td>0.0</td>\n",
       "    </tr>\n",
       "    <tr>\n",
       "      <th>2</th>\n",
       "      <td>ASTURIAS/AVILES</td>\n",
       "      <td>31/01/2011</td>\n",
       "      <td>5.5</td>\n",
       "      <td>8.0</td>\n",
       "      <td>2.9</td>\n",
       "      <td>0.0</td>\n",
       "      <td>1025.0 Hpa</td>\n",
       "      <td>203º(SW)</td>\n",
       "      <td>6</td>\n",
       "      <td>7/8</td>\n",
       "      <td>-</td>\n",
       "      <td>0.8</td>\n",
       "    </tr>\n",
       "    <tr>\n",
       "      <th>3</th>\n",
       "      <td>GIJON-MUSEL</td>\n",
       "      <td>31/01/2011</td>\n",
       "      <td>6.6</td>\n",
       "      <td>9.0</td>\n",
       "      <td>4.2</td>\n",
       "      <td>0.0</td>\n",
       "      <td>1024.1 Hpa</td>\n",
       "      <td>224º(SW)</td>\n",
       "      <td>5</td>\n",
       "      <td>7/8</td>\n",
       "      <td>-</td>\n",
       "      <td>0.4</td>\n",
       "    </tr>\n",
       "    <tr>\n",
       "      <th>4</th>\n",
       "      <td>OVIEDO</td>\n",
       "      <td>31/01/2011</td>\n",
       "      <td>4.4</td>\n",
       "      <td>7.4</td>\n",
       "      <td>1.4</td>\n",
       "      <td>Ip</td>\n",
       "      <td>1024.5 Hpa</td>\n",
       "      <td>235º(SW)</td>\n",
       "      <td>2</td>\n",
       "      <td>7/8</td>\n",
       "      <td>-</td>\n",
       "      <td>1.6</td>\n",
       "    </tr>\n",
       "  </tbody>\n",
       "</table>\n",
       "</div>"
      ],
      "text/plain": [
       "          Estacion       Fecha T. med. (ºC) T. max (ºC) T. min (ºC)  \\\n",
       "0        LA CORUNA  31/01/2011          8.3        10.4         6.2   \n",
       "1       LUGO/ROZAS  31/01/2011          2.6         4.4         0.9   \n",
       "2  ASTURIAS/AVILES  31/01/2011          5.5         8.0         2.9   \n",
       "3      GIJON-MUSEL  31/01/2011          6.6         9.0         4.2   \n",
       "4           OVIEDO  31/01/2011          4.4         7.4         1.4   \n",
       "\n",
       "  Prec. (mm) Presion/ Geopot.  Dir. vi. Vel. vi. (Km/h) Nub. Prof. nieve (cm)  \\\n",
       "0        0.0       1024.1 Hpa   65º(NE)              14  7/8                -   \n",
       "1        0.2       1024.3 Hpa  325º(NW)               2  8/8                -   \n",
       "2        0.0       1025.0 Hpa  203º(SW)               6  7/8                -   \n",
       "3        0.0       1024.1 Hpa  224º(SW)               5  7/8                -   \n",
       "4         Ip       1024.5 Hpa  235º(SW)               2  7/8                -   \n",
       "\n",
       "  Insolac. (horas)  \n",
       "0              0.7  \n",
       "1              0.0  \n",
       "2              0.8  \n",
       "3              0.4  \n",
       "4              1.6  "
      ]
     },
     "execution_count": 20,
     "metadata": {},
     "output_type": "execute_result"
    }
   ],
   "source": [
    "df_meteo.head()"
   ]
  },
  {
   "cell_type": "code",
   "execution_count": 21,
   "metadata": {},
   "outputs": [
    {
     "data": {
      "text/html": [
       "<div>\n",
       "<style scoped>\n",
       "    .dataframe tbody tr th:only-of-type {\n",
       "        vertical-align: middle;\n",
       "    }\n",
       "\n",
       "    .dataframe tbody tr th {\n",
       "        vertical-align: top;\n",
       "    }\n",
       "\n",
       "    .dataframe thead th {\n",
       "        text-align: right;\n",
       "    }\n",
       "</style>\n",
       "<table border=\"1\" class=\"dataframe\">\n",
       "  <thead>\n",
       "    <tr style=\"text-align: right;\">\n",
       "      <th></th>\n",
       "      <th>ID</th>\n",
       "      <th>ESTACION</th>\n",
       "      <th>Estado</th>\n",
       "      <th>Latitud</th>\n",
       "      <th>Longitud</th>\n",
       "    </tr>\n",
       "  </thead>\n",
       "  <tbody>\n",
       "    <tr>\n",
       "      <th>0</th>\n",
       "      <td>8427</td>\n",
       "      <td>ABLA</td>\n",
       "      <td>SPAIN</td>\n",
       "      <td>37-08-29N</td>\n",
       "      <td>002-46-46W</td>\n",
       "    </tr>\n",
       "    <tr>\n",
       "      <th>1</th>\n",
       "      <td>8486</td>\n",
       "      <td>ADRA,CLUB NAUTICO</td>\n",
       "      <td>SPAIN</td>\n",
       "      <td>36-44-48N</td>\n",
       "      <td>003-01-14W</td>\n",
       "    </tr>\n",
       "    <tr>\n",
       "      <th>2</th>\n",
       "      <td>8432</td>\n",
       "      <td>AGUILAS</td>\n",
       "      <td>SPAIN</td>\n",
       "      <td>37-25-00N</td>\n",
       "      <td>001-35-12W</td>\n",
       "    </tr>\n",
       "    <tr>\n",
       "      <th>3</th>\n",
       "      <td>8019</td>\n",
       "      <td>AGUION</td>\n",
       "      <td>SPAIN</td>\n",
       "      <td>43-28N</td>\n",
       "      <td>006-18W</td>\n",
       "    </tr>\n",
       "    <tr>\n",
       "      <th>4</th>\n",
       "      <td>8380</td>\n",
       "      <td>ALAJAR, CABEZO MOLIN</td>\n",
       "      <td>SPAIN</td>\n",
       "      <td>37-52-05N</td>\n",
       "      <td>006-40-27W</td>\n",
       "    </tr>\n",
       "  </tbody>\n",
       "</table>\n",
       "</div>"
      ],
      "text/plain": [
       "     ID              ESTACION Estado    Latitud    Longitud\n",
       "0  8427                  ABLA  SPAIN  37-08-29N  002-46-46W\n",
       "1  8486     ADRA,CLUB NAUTICO  SPAIN  36-44-48N  003-01-14W\n",
       "2  8432               AGUILAS  SPAIN  37-25-00N  001-35-12W\n",
       "3  8019                AGUION  SPAIN     43-28N     006-18W\n",
       "4  8380  ALAJAR, CABEZO MOLIN  SPAIN  37-52-05N  006-40-27W"
      ]
     },
     "execution_count": 21,
     "metadata": {},
     "output_type": "execute_result"
    }
   ],
   "source": [
    "result_2.head()"
   ]
  },
  {
   "cell_type": "code",
   "execution_count": 22,
   "metadata": {},
   "outputs": [],
   "source": [
    "result_3 = pd.merge(df_meteo, \n",
    "                  result_2,\n",
    "                  left_on='Estacion',\n",
    "                  right_on='ESTACION',\n",
    "                  how='left')"
   ]
  },
  {
   "cell_type": "code",
   "execution_count": 23,
   "metadata": {},
   "outputs": [
    {
     "data": {
      "text/html": [
       "<div>\n",
       "<style scoped>\n",
       "    .dataframe tbody tr th:only-of-type {\n",
       "        vertical-align: middle;\n",
       "    }\n",
       "\n",
       "    .dataframe tbody tr th {\n",
       "        vertical-align: top;\n",
       "    }\n",
       "\n",
       "    .dataframe thead th {\n",
       "        text-align: right;\n",
       "    }\n",
       "</style>\n",
       "<table border=\"1\" class=\"dataframe\">\n",
       "  <thead>\n",
       "    <tr style=\"text-align: right;\">\n",
       "      <th></th>\n",
       "      <th>Estacion</th>\n",
       "      <th>Fecha</th>\n",
       "      <th>T. med. (ºC)</th>\n",
       "      <th>T. max (ºC)</th>\n",
       "      <th>T. min (ºC)</th>\n",
       "      <th>Prec. (mm)</th>\n",
       "      <th>Presion/ Geopot.</th>\n",
       "      <th>Dir. vi.</th>\n",
       "      <th>Vel. vi. (Km/h)</th>\n",
       "      <th>Nub.</th>\n",
       "      <th>Prof. nieve (cm)</th>\n",
       "      <th>Insolac. (horas)</th>\n",
       "      <th>ID</th>\n",
       "      <th>ESTACION</th>\n",
       "      <th>Estado</th>\n",
       "      <th>Latitud</th>\n",
       "      <th>Longitud</th>\n",
       "    </tr>\n",
       "  </thead>\n",
       "  <tbody>\n",
       "    <tr>\n",
       "      <th>0</th>\n",
       "      <td>LA CORUNA</td>\n",
       "      <td>31/01/2011</td>\n",
       "      <td>8.3</td>\n",
       "      <td>10.4</td>\n",
       "      <td>6.2</td>\n",
       "      <td>0.0</td>\n",
       "      <td>1024.1 Hpa</td>\n",
       "      <td>65º(NE)</td>\n",
       "      <td>14</td>\n",
       "      <td>7/8</td>\n",
       "      <td>-</td>\n",
       "      <td>0.7</td>\n",
       "      <td>8001</td>\n",
       "      <td>LA CORUNA</td>\n",
       "      <td>SPAIN</td>\n",
       "      <td>43-22N</td>\n",
       "      <td>008-25W</td>\n",
       "    </tr>\n",
       "    <tr>\n",
       "      <th>1</th>\n",
       "      <td>LUGO/ROZAS</td>\n",
       "      <td>31/01/2011</td>\n",
       "      <td>2.6</td>\n",
       "      <td>4.4</td>\n",
       "      <td>0.9</td>\n",
       "      <td>0.2</td>\n",
       "      <td>1024.3 Hpa</td>\n",
       "      <td>325º(NW)</td>\n",
       "      <td>2</td>\n",
       "      <td>8/8</td>\n",
       "      <td>-</td>\n",
       "      <td>0.0</td>\n",
       "      <td>8008</td>\n",
       "      <td>LUGO/ROZAS</td>\n",
       "      <td>SPAIN</td>\n",
       "      <td>43-07N</td>\n",
       "      <td>007-27W</td>\n",
       "    </tr>\n",
       "    <tr>\n",
       "      <th>2</th>\n",
       "      <td>ASTURIAS/AVILES</td>\n",
       "      <td>31/01/2011</td>\n",
       "      <td>5.5</td>\n",
       "      <td>8.0</td>\n",
       "      <td>2.9</td>\n",
       "      <td>0.0</td>\n",
       "      <td>1025.0 Hpa</td>\n",
       "      <td>203º(SW)</td>\n",
       "      <td>6</td>\n",
       "      <td>7/8</td>\n",
       "      <td>-</td>\n",
       "      <td>0.8</td>\n",
       "      <td>8011</td>\n",
       "      <td>ASTURIAS/AVILES</td>\n",
       "      <td>SPAIN</td>\n",
       "      <td>43-33N</td>\n",
       "      <td>006-02W</td>\n",
       "    </tr>\n",
       "    <tr>\n",
       "      <th>3</th>\n",
       "      <td>GIJON-MUSEL</td>\n",
       "      <td>31/01/2011</td>\n",
       "      <td>6.6</td>\n",
       "      <td>9.0</td>\n",
       "      <td>4.2</td>\n",
       "      <td>0.0</td>\n",
       "      <td>1024.1 Hpa</td>\n",
       "      <td>224º(SW)</td>\n",
       "      <td>5</td>\n",
       "      <td>7/8</td>\n",
       "      <td>-</td>\n",
       "      <td>0.4</td>\n",
       "      <td>8014</td>\n",
       "      <td>GIJON-MUSEL</td>\n",
       "      <td>SPAIN</td>\n",
       "      <td>43-33-36N</td>\n",
       "      <td>005-42-03W</td>\n",
       "    </tr>\n",
       "    <tr>\n",
       "      <th>4</th>\n",
       "      <td>OVIEDO</td>\n",
       "      <td>31/01/2011</td>\n",
       "      <td>4.4</td>\n",
       "      <td>7.4</td>\n",
       "      <td>1.4</td>\n",
       "      <td>Ip</td>\n",
       "      <td>1024.5 Hpa</td>\n",
       "      <td>235º(SW)</td>\n",
       "      <td>2</td>\n",
       "      <td>7/8</td>\n",
       "      <td>-</td>\n",
       "      <td>1.6</td>\n",
       "      <td>8015</td>\n",
       "      <td>OVIEDO</td>\n",
       "      <td>SPAIN</td>\n",
       "      <td>43-21N</td>\n",
       "      <td>005-52W</td>\n",
       "    </tr>\n",
       "  </tbody>\n",
       "</table>\n",
       "</div>"
      ],
      "text/plain": [
       "          Estacion       Fecha T. med. (ºC) T. max (ºC) T. min (ºC)  \\\n",
       "0        LA CORUNA  31/01/2011          8.3        10.4         6.2   \n",
       "1       LUGO/ROZAS  31/01/2011          2.6         4.4         0.9   \n",
       "2  ASTURIAS/AVILES  31/01/2011          5.5         8.0         2.9   \n",
       "3      GIJON-MUSEL  31/01/2011          6.6         9.0         4.2   \n",
       "4           OVIEDO  31/01/2011          4.4         7.4         1.4   \n",
       "\n",
       "  Prec. (mm) Presion/ Geopot.  Dir. vi. Vel. vi. (Km/h) Nub. Prof. nieve (cm)  \\\n",
       "0        0.0       1024.1 Hpa   65º(NE)              14  7/8                -   \n",
       "1        0.2       1024.3 Hpa  325º(NW)               2  8/8                -   \n",
       "2        0.0       1025.0 Hpa  203º(SW)               6  7/8                -   \n",
       "3        0.0       1024.1 Hpa  224º(SW)               5  7/8                -   \n",
       "4         Ip       1024.5 Hpa  235º(SW)               2  7/8                -   \n",
       "\n",
       "  Insolac. (horas)    ID         ESTACION Estado    Latitud    Longitud  \n",
       "0              0.7  8001        LA CORUNA  SPAIN     43-22N     008-25W  \n",
       "1              0.0  8008       LUGO/ROZAS  SPAIN     43-07N     007-27W  \n",
       "2              0.8  8011  ASTURIAS/AVILES  SPAIN     43-33N     006-02W  \n",
       "3              0.4  8014      GIJON-MUSEL  SPAIN  43-33-36N  005-42-03W  \n",
       "4              1.6  8015           OVIEDO  SPAIN     43-21N     005-52W  "
      ]
     },
     "execution_count": 23,
     "metadata": {},
     "output_type": "execute_result"
    }
   ],
   "source": [
    "result_3.head()"
   ]
  },
  {
   "cell_type": "code",
   "execution_count": 24,
   "metadata": {},
   "outputs": [],
   "source": [
    "result_3=result_3[['Fecha','ID','Estacion','Estado','Latitud','Longitud','T. med. (ºC)','T. max (ºC)','T. min (ºC)','Prec. (mm)','Presion/ Geopot.','Dir. vi.','Vel. vi. (Km/h)','Nub.','Prof. nieve (cm)','Insolac. (horas)']]"
   ]
  },
  {
   "cell_type": "code",
   "execution_count": 25,
   "metadata": {},
   "outputs": [],
   "source": [
    "result_3.to_csv('../DATASETS/ESTACIONES/historico_estaciones_coordenadas_2.csv',sep='|',header=True,index=False)"
   ]
  },
  {
   "cell_type": "markdown",
   "metadata": {},
   "source": [
    "hay que modificar el fichero de estaciones_coordenadas_2.csv, ya que se estan incluyendo estaciones que no aparecen en el fichero de historico de meteo y a la postre hara que tengamos incidentes asociados a estaciones meteorologicas que no tienen datos meteorologicos."
   ]
  },
  {
   "cell_type": "code",
   "execution_count": 26,
   "metadata": {},
   "outputs": [],
   "source": [
    "df_estacion=result_3[['Estacion']]"
   ]
  },
  {
   "cell_type": "code",
   "execution_count": 27,
   "metadata": {},
   "outputs": [],
   "source": [
    "df_estacion=pd.DataFrame(df_estacion.Estacion.unique(),columns=['Estacion'])\n"
   ]
  },
  {
   "cell_type": "code",
   "execution_count": 28,
   "metadata": {},
   "outputs": [],
   "source": [
    "result_4 = pd.merge(df_estacion, \n",
    "                  result_2,\n",
    "                  left_on='Estacion',\n",
    "                  right_on='ESTACION',\n",
    "                  how='left')"
   ]
  },
  {
   "cell_type": "code",
   "execution_count": 29,
   "metadata": {},
   "outputs": [],
   "source": [
    "result_4=result_4[['ID','ESTACION','Estado','Latitud','Longitud']]"
   ]
  },
  {
   "cell_type": "code",
   "execution_count": 30,
   "metadata": {},
   "outputs": [],
   "source": [
    "result_4.to_csv('../DATASETS/ESTACIONES/estaciones_coordenadas_2.csv',sep='|',header=True,index=False)"
   ]
  },
  {
   "cell_type": "markdown",
   "metadata": {},
   "source": [
    "## Analisis "
   ]
  },
  {
   "cell_type": "markdown",
   "metadata": {},
   "source": [
    "Se ha conseguido condensar en un solo fichero el histórico de meteo en cada estacion, asi como las coordenadas del lugar donde esta instalada en cada caso."
   ]
  },
  {
   "cell_type": "markdown",
   "metadata": {},
   "source": [
    "## Conclusion"
   ]
  },
  {
   "cell_type": "markdown",
   "metadata": {},
   "source": [
    "Una vez obtenido el fichero historico_estaciones_coordenadas_2.csv, tenemos que relacionar el lugar de ahogamiento en cada caso, con las condiciones meteorologicas del lugar en el que se produce el incidente.\n",
    "\n",
    "Esto ultimo no es trivial, ya que las estaciones estan colocadas en lugares concretos, con unas coordenadas concretas, que no tienen por que ser las del lugar del ahogamiento. Habra que hacer algunas aproximaciones para poder relacionar ambas fuentes de informacion.\n",
    "\n",
    "Por otro lado el formato en el que tenemos las coordenadas difiere en ambos ficheros. En uno las tenemos en formato decimal, y en el otro en sexagesimal."
   ]
  },
  {
   "cell_type": "markdown",
   "metadata": {},
   "source": [
    "## Propuesta "
   ]
  },
  {
   "cell_type": "markdown",
   "metadata": {},
   "source": [
    "Para la unificacion del formato de las coordenadas se plantean dos posibilidades:\n",
    "    \n",
    "    --Transformar \"a huevo\" las coordenadas\n",
    "\n",
    "Para asociar una estacion meterologica a cada incidente se propone:\n",
    "    \n",
    "    --para cada incidente, recorrer el fichero de estaciones-coordenadas, calculando la distancia entre el incidente y y las       diferentes estaciones, y quedandonos con aquella cuya distancia sea menor."
   ]
  }
 ],
 "metadata": {
  "kernelspec": {
   "display_name": "Python 3",
   "language": "python",
   "name": "python3"
  },
  "language_info": {
   "codemirror_mode": {
    "name": "ipython",
    "version": 3
   },
   "file_extension": ".py",
   "mimetype": "text/x-python",
   "name": "python",
   "nbconvert_exporter": "python",
   "pygments_lexer": "ipython3",
   "version": "3.7.4"
  }
 },
 "nbformat": 4,
 "nbformat_minor": 2
}
