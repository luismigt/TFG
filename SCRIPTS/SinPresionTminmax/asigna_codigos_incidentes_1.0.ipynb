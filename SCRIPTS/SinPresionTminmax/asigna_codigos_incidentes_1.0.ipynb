{
 "cells": [
  {
   "cell_type": "markdown",
   "metadata": {},
   "source": [
    "# asigna_codigos_incidentes_1.0"
   ]
  },
  {
   "cell_type": "markdown",
   "metadata": {},
   "source": [
    "En este script se van a sustituir los multiples campos descriptivos por sus codigos asociados, extraidos de las tablas auxiliares que tenemos en la base de datos. Esto facilitara el posterior analisis.\n",
    "\n",
    "Por otra parte, aquellas columnas de descriptivos que carezcan de relevancia, bien sea porque su informacion se considera irrlevante, o porque no estan informadas en un porcentaje alto de incidentes, se suprimiran."
   ]
  },
  {
   "cell_type": "code",
   "execution_count": 1,
   "metadata": {},
   "outputs": [
    {
     "name": "stderr",
     "output_type": "stream",
     "text": [
      "C:\\Users\\Luis Miguel Garay\\Anaconda3\\envs\\ztdl2\\lib\\site-packages\\ipykernel_launcher.py:9: DeprecationWarning: \n",
      ".ix is deprecated. Please use\n",
      ".loc for label based indexing or\n",
      ".iloc for positional indexing\n",
      "\n",
      "See the documentation here:\n",
      "http://pandas.pydata.org/pandas-docs/stable/indexing.html#ix-indexer-is-deprecated\n",
      "  if __name__ == '__main__':\n"
     ]
    }
   ],
   "source": [
    "import pandas as pd\n",
    "import numpy as np\n",
    "\n",
    "df_inc=pd.read_csv('../DATASETS/AHOGADOS/CSV/historico_incidentes_estaciones_meteo.csv',sep='|',error_bad_lines=False)\n",
    "\n",
    "df_inc['Mes'] = df_inc['Fecha'].str.slice(3, 5).astype(float)\n",
    "cols = list(df_inc)\n",
    "cols.insert(1, cols.pop(cols.index('Mes')))\n",
    "df_inc = df_inc.ix[:, cols]\n",
    "\n",
    "df_actividad=pd.read_csv('../DATASETS/AHOGADOS/CSV/AUXILIARES/aux_actividad.csv',sep='|',error_bad_lines=False)\n",
    "df_causa=pd.read_csv('../DATASETS/AHOGADOS/CSV/AUXILIARES/aux_causa.csv',sep='|',error_bad_lines=False)\n",
    "df_CCAA=pd.read_csv('../DATASETS/AHOGADOS/CSV/AUXILIARES/aux_CCAA.csv',sep='|',error_bad_lines=False)\n",
    "df_deteccion=pd.read_csv('../DATASETS/AHOGADOS/CSV/AUXILIARES/aux_deteccion.csv',sep='|',error_bad_lines=False)\n",
    "df_factores=pd.read_csv('../DATASETS/AHOGADOS/CSV/AUXILIARES/aux_factores.csv',sep='|',error_bad_lines=False)\n",
    "df_intervencion=pd.read_csv('../DATASETS/AHOGADOS/CSV/AUXILIARES/aux_intervencion.csv',sep='|',error_bad_lines=False)\n",
    "df_origen=pd.read_csv('../DATASETS/AHOGADOS/CSV/AUXILIARES/aux_origen.csv',sep='|',error_bad_lines=False)\n",
    "df_pronostico=pd.read_csv('../DATASETS/AHOGADOS/CSV/AUXILIARES/aux_pronostico.csv',sep='|',error_bad_lines=False)\n",
    "df_provincias=pd.read_csv('../DATASETS/AHOGADOS/CSV/AUXILIARES/aux_provincias.csv',sep='|',error_bad_lines=False)\n",
    "df_reanimacion=pd.read_csv('../DATASETS/AHOGADOS/CSV/AUXILIARES/aux_reanimacion.csv',sep='|',error_bad_lines=False)\n",
    "df_riesgo=pd.read_csv('../DATASETS/AHOGADOS/CSV/AUXILIARES/aux_riesgo.csv',sep='|',error_bad_lines=False)\n",
    "df_tipo=pd.read_csv('../DATASETS/AHOGADOS/CSV/AUXILIARES/aux_tipo.csv',sep='|',error_bad_lines=False)\n",
    "df_vigilancia=pd.read_csv('../DATASETS/AHOGADOS/CSV/AUXILIARES/aux_vigilancia.csv',sep='|',error_bad_lines=False)\n",
    "\n",
    "df_inc['Mes'] = df_inc['Fecha'].str.slice(3, 5).astype(float)\n",
    "\n",
    "df_CCAA['CCAA'] = df_CCAA['CCAA'].str.upper()\n",
    "df_provincias['Provincia'] = df_provincias['Provincia'].str.upper()\n",
    "\n",
    "df_CCAA['CCAA'] = df_CCAA['CCAA'].str.normalize('NFKD').str.encode('ascii', errors='ignore').str.decode('utf-8')\n",
    "df_provincias['Provincia'] = df_provincias['Provincia'].str.normalize('NFKD').str.encode('ascii', errors='ignore').str.decode('utf-8')"
   ]
  },
  {
   "cell_type": "code",
   "execution_count": 2,
   "metadata": {},
   "outputs": [],
   "source": [
    "df_inc=df_inc.replace('Sin datos', np.NaN)"
   ]
  },
  {
   "cell_type": "code",
   "execution_count": 3,
   "metadata": {},
   "outputs": [],
   "source": [
    "df_inc = pd.merge(df_inc, \n",
    "                  df_actividad,\n",
    "                  left_on=['Actividad'],\n",
    "                  right_on=['Actividad'],\n",
    "                  how='left')\n",
    "\n",
    "df_inc = pd.merge(df_inc, \n",
    "                  df_causa,\n",
    "                  left_on=['Causa'],\n",
    "                  right_on=['Causa'],\n",
    "                  how='left')\n",
    "\n",
    "df_inc = pd.merge(df_inc, \n",
    "                  df_deteccion,\n",
    "                  left_on=['Deteccion'],\n",
    "                  right_on=['Deteccion'],\n",
    "                  how='left')\n",
    "\n",
    "df_inc = pd.merge(df_inc, \n",
    "                  df_factores,\n",
    "                  left_on=['Factor'],\n",
    "                  right_on=['Factor'],\n",
    "                  how='left')\n",
    "\n",
    "df_inc = pd.merge(df_inc, \n",
    "                  df_intervencion,\n",
    "                  left_on=['Intervencion'],\n",
    "                  right_on=['Intervencion'],\n",
    "                  how='left')\n",
    "\n",
    "df_inc = pd.merge(df_inc, \n",
    "                  df_origen,\n",
    "                  left_on=['Origen'],\n",
    "                  right_on=['Origen'],\n",
    "                  how='left')\n",
    "\n",
    "df_inc = pd.merge(df_inc, \n",
    "                  df_pronostico,\n",
    "                  left_on=['Pronostico'],\n",
    "                  right_on=['Pronostico'],\n",
    "                  how='left')\n",
    "\n",
    "df_inc = pd.merge(df_inc, \n",
    "                  df_reanimacion,\n",
    "                  left_on=['Reanimacion'],\n",
    "                  right_on=['Reanimacion'],\n",
    "                  how='left')\n",
    "\n",
    "df_inc = pd.merge(df_inc, \n",
    "                  df_riesgo,\n",
    "                  left_on=['Riesgo'],\n",
    "                  right_on=['Riesgo'],\n",
    "                  how='left')\n",
    "\n",
    "df_inc = pd.merge(df_inc, \n",
    "                  df_tipo,\n",
    "                  left_on=['TipoAhogamiento'],\n",
    "                  right_on=['TipoAhogamiento'],\n",
    "                  how='left')\n",
    "\n",
    "df_inc = pd.merge(df_inc, \n",
    "                  df_vigilancia,\n",
    "                  left_on=['Vigilancia'],\n",
    "                  right_on=['Vigilancia'],\n",
    "                  how='left')\n",
    "\n",
    "\n",
    "\n",
    "df_inc = pd.merge(df_inc, \n",
    "                  df_CCAA,\n",
    "                  left_on=['CCAA'],\n",
    "                  right_on=['CCAA'],\n",
    "                  how='left')\n",
    "\n",
    "df_inc = pd.merge(df_inc, \n",
    "                  df_provincias,\n",
    "                  left_on=['Provincia'],\n",
    "                  right_on=['Provincia'],\n",
    "                  how='left')"
   ]
  },
  {
   "cell_type": "code",
   "execution_count": 4,
   "metadata": {},
   "outputs": [],
   "source": [
    "df_inc=df_inc.drop(['Origen','Extraccion','Causa','TipoAhogamiento','Factor','Intervencion','Pronostico','Localizacion','Riesgo','Reanimacion','Vigilancia','Actividad','Deteccion','IdProv','IdCCAA_x','IdCCAA_y'], axis=1)"
   ]
  },
  {
   "cell_type": "code",
   "execution_count": 5,
   "metadata": {},
   "outputs": [],
   "source": [
    "df_inc.to_csv('../DATASETS/AHOGADOS/CSV/historico_inc_est_meteo_codigos.csv',sep='|',header=True,index=False)"
   ]
  }
 ],
 "metadata": {
  "kernelspec": {
   "display_name": "Python 3",
   "language": "python",
   "name": "python3"
  },
  "language_info": {
   "codemirror_mode": {
    "name": "ipython",
    "version": 3
   },
   "file_extension": ".py",
   "mimetype": "text/x-python",
   "name": "python",
   "nbconvert_exporter": "python",
   "pygments_lexer": "ipython3",
   "version": "3.7.6"
  }
 },
 "nbformat": 4,
 "nbformat_minor": 2
}
