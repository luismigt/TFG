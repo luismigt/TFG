{
 "cells": [
  {
   "cell_type": "code",
   "execution_count": 1,
   "metadata": {},
   "outputs": [],
   "source": [
    "import pandas as pd\n",
    "import numpy as np\n",
    "import matplotlib.pyplot as plt\n",
    "import seaborn as sb\n",
    "from sklearn.cluster import KMeans\n",
    "from sklearn.metrics import pairwise_distances_argmin_min\n",
    "\n",
    "%matplotlib inline\n",
    "from mpl_toolkits.mplot3d import Axes3D\n",
    "plt.rcParams['figure.figsize'] = (16, 9)\n",
    "plt.style.use('ggplot')\n",
    "\n",
    "\n",
    "\n",
    "df_inc=pd.read_csv('../DATASETS/AHOGADOS/CSV/historico_inc_est_meteo_codigos_test.csv',sep='|',error_bad_lines=False)"
   ]
  },
  {
   "cell_type": "code",
   "execution_count": 2,
   "metadata": {},
   "outputs": [
    {
     "name": "stdout",
     "output_type": "stream",
     "text": [
      "<class 'pandas.core.frame.DataFrame'>\n",
      "RangeIndex: 5468 entries, 0 to 5467\n",
      "Data columns (total 47 columns):\n",
      "Fecha              5468 non-null object\n",
      "Mes                5468 non-null float64\n",
      "IdAhogado          5468 non-null int64\n",
      "IdPersona          5468 non-null int64\n",
      "Localidad          5468 non-null object\n",
      "Provincia          5468 non-null object\n",
      "CCAA               5468 non-null object\n",
      "Hora               4477 non-null object\n",
      "Latitud_inc        5468 non-null float64\n",
      "Longitud_inc       5468 non-null float64\n",
      "Sexo               5467 non-null object\n",
      "Edad               4510 non-null float64\n",
      "Nacionalidad       5468 non-null object\n",
      "ID                 5468 non-null int64\n",
      "Estacion           5468 non-null object\n",
      "Estado             5468 non-null object\n",
      "Latitud_est        5468 non-null float64\n",
      "Longitud_est       5468 non-null float64\n",
      "T_med              5468 non-null float64\n",
      "T_max              5468 non-null float64\n",
      "T_min              5468 non-null float64\n",
      "Precipitaciones    5468 non-null float64\n",
      "Presion            5468 non-null float64\n",
      "Dir. vi.           5463 non-null float64\n",
      "V_Viento           5468 non-null int64\n",
      "Nubosidad          5468 non-null float64\n",
      "ProfNievecm        4218 non-null float64\n",
      "InsolacHoras       4218 non-null float64\n",
      "Distancia          5468 non-null float64\n",
      "IdActividad        5468 non-null int64\n",
      "IdCausa            5468 non-null int64\n",
      "IdDeteccion        5468 non-null int64\n",
      "IdFactor           5468 non-null int64\n",
      "IdInterv           5468 non-null int64\n",
      "IdOrigen           5468 non-null int64\n",
      "IdPronostico       5468 non-null int64\n",
      "Mortal             5468 non-null int64\n",
      "IdReanima          5468 non-null int64\n",
      "IdRiesgo           5468 non-null int64\n",
      "IdTipo             5468 non-null int64\n",
      "IdVigilancia       5468 non-null int64\n",
      "IdCCAA             5468 non-null int64\n",
      "Poblacion          5468 non-null int64\n",
      "IdProv             5468 non-null int64\n",
      "PobProv            5468 non-null int64\n",
      "Costa              5468 non-null int64\n",
      "IdLocal            5468 non-null int64\n",
      "dtypes: float64(16), int64(22), object(9)\n",
      "memory usage: 2.0+ MB\n"
     ]
    }
   ],
   "source": [
    "df_inc.info()"
   ]
  },
  {
   "cell_type": "code",
   "execution_count": 6,
   "metadata": {},
   "outputs": [
    {
     "data": {
      "text/plain": [
       "Index(['Fecha', 'Mes', 'IdAhogado', 'IdPersona', 'Localidad', 'Provincia',\n",
       "       'CCAA', 'Hora', 'Latitud_inc', 'Longitud_inc', 'Sexo', 'Edad',\n",
       "       'Nacionalidad', 'ID', 'Estacion', 'Estado', 'Latitud_est',\n",
       "       'Longitud_est', 'T_med', 'T_max', 'T_min', 'Precipitaciones', 'Presion',\n",
       "       'Dir. vi.', 'V_Viento', 'Nubosidad', 'ProfNievecm', 'InsolacHoras',\n",
       "       'Distancia', 'IdActividad', 'IdCausa', 'IdDeteccion', 'IdFactor',\n",
       "       'IdInterv', 'IdOrigen', 'IdPronostico', 'Mortal', 'IdReanima',\n",
       "       'IdRiesgo', 'IdTipo', 'IdVigilancia', 'IdCCAA', 'Poblacion', 'IdProv',\n",
       "       'PobProv', 'Costa', 'IdLocal'],\n",
       "      dtype='object')"
      ]
     },
     "execution_count": 6,
     "metadata": {},
     "output_type": "execute_result"
    }
   ],
   "source": [
    "df_inc.columns"
   ]
  },
  {
   "cell_type": "code",
   "execution_count": 8,
   "metadata": {},
   "outputs": [],
   "source": [
    "df_inc_clust=df_inc[['Mes', 'Latitud_inc', 'Longitud_inc', 'Edad', 'T_med',\n",
    "       'T_max', 'T_min', 'Precipitaciones', 'Presion', 'Dir. vi.', 'V_Viento', 'Nubosidad', 'Distancia',\n",
    "       'IdActividad', 'IdCausa', 'IdDeteccion', 'IdFactor', 'IdInterv', 'IdOrigen', 'IdPronostico', 'Mortal', 'IdReanima',\n",
    "       'IdRiesgo', 'IdTipo', 'IdVigilancia', 'IdCCAA', 'Poblacion', 'IdProv',\n",
    "       'PobProv', 'Costa', 'IdLocal']]\n"
   ]
  },
  {
   "cell_type": "code",
   "execution_count": 9,
   "metadata": {},
   "outputs": [
    {
     "name": "stdout",
     "output_type": "stream",
     "text": [
      "<class 'pandas.core.frame.DataFrame'>\n",
      "RangeIndex: 5468 entries, 0 to 5467\n",
      "Data columns (total 31 columns):\n",
      "Mes                5468 non-null float64\n",
      "Latitud_inc        5468 non-null float64\n",
      "Longitud_inc       5468 non-null float64\n",
      "Edad               4510 non-null float64\n",
      "T_med              5468 non-null float64\n",
      "T_max              5468 non-null float64\n",
      "T_min              5468 non-null float64\n",
      "Precipitaciones    5468 non-null float64\n",
      "Presion            5468 non-null float64\n",
      "Dir. vi.           5463 non-null float64\n",
      "V_Viento           5468 non-null int64\n",
      "Nubosidad          5468 non-null float64\n",
      "Distancia          5468 non-null float64\n",
      "IdActividad        5468 non-null int64\n",
      "IdCausa            5468 non-null int64\n",
      "IdDeteccion        5468 non-null int64\n",
      "IdFactor           5468 non-null int64\n",
      "IdInterv           5468 non-null int64\n",
      "IdOrigen           5468 non-null int64\n",
      "IdPronostico       5468 non-null int64\n",
      "Mortal             5468 non-null int64\n",
      "IdReanima          5468 non-null int64\n",
      "IdRiesgo           5468 non-null int64\n",
      "IdTipo             5468 non-null int64\n",
      "IdVigilancia       5468 non-null int64\n",
      "IdCCAA             5468 non-null int64\n",
      "Poblacion          5468 non-null int64\n",
      "IdProv             5468 non-null int64\n",
      "PobProv            5468 non-null int64\n",
      "Costa              5468 non-null int64\n",
      "IdLocal            5468 non-null int64\n",
      "dtypes: float64(12), int64(19)\n",
      "memory usage: 1.3 MB\n"
     ]
    }
   ],
   "source": [
    "df_inc_clust.info()"
   ]
  },
  {
   "cell_type": "code",
   "execution_count": 11,
   "metadata": {},
   "outputs": [
    {
     "data": {
      "text/plain": [
       "array([340.  , 269.  , 227.  , 156.  , 322.  , 279.  , 188.  ,  20.  ,\n",
       "       313.  ,  71.  ,  65.  , 149.  ,  39.  , 232.  , 358.  , 245.  ,\n",
       "        61.  ,  44.  , 247.  ,  62.  , 105.  , 119.  ,  99.  ,  81.  ,\n",
       "       115.  ,  60.  , 134.  , 150.  , 222.  , 189.  , 318.  ,  36.  ,\n",
       "       356.  , 238.  ,  70.  , 144.  , 208.  , 350.  , 300.  , 329.  ,\n",
       "       170.  , 182.  , 236.  , 244.  , 138.  , 262.  , 112.  , 257.  ,\n",
       "       270.  ,  74.  , 224.  , 187.  , 294.  , 186.  , 113.  , 285.  ,\n",
       "       310.  , 212.  , 273.  , 286.  , 359.  , 183.  ,  19.  , 231.  ,\n",
       "       263.  , 235.  , 277.  , 305.  , 339.  , 330.  , 283.  , 268.  ,\n",
       "       107.  , 253.  , 110.  , 260.  , 201.  , 291.  , 272.  , 166.  ,\n",
       "        32.  , 207.  , 220.  , 218.  , 162.  , 174.  , 160.  , 178.  ,\n",
       "        40.  , 161.  , 297.  ,  87.  ,  84.  , 100.  ,  97.  , 320.  ,\n",
       "       293.  , 352.  , 221.  , 145.  ,  56.  , 106.  , 215.  ,  43.  ,\n",
       "       165.  , 137.  , 351.  , 121.  ,  96.  , 292.  , 140.  , 177.  ,\n",
       "        76.  ,  59.  , 296.  ,  66.  ,  98.  , 181.  , 109.  , 295.  ,\n",
       "       342.  , 233.  , 194.  ,  35.  ,  34.  , 228.  , 241.  , 289.  ,\n",
       "       328.  ,  83.  , 230.  , 219.  , 195.  , 130.  , 101.  , 185.  ,\n",
       "       184.  , 226.  , 242.  , 267.  ,  10.  ,  90.  ,  78.  , 104.  ,\n",
       "        91.  , 360.  , 202.  , 139.  ,  33.  , 116.  , 344.  , 143.  ,\n",
       "        54.  , 154.  ,  53.  ,  17.  , 133.  ,  50.  ,  28.  ,  46.  ,\n",
       "       147.  , 311.  , 206.  , 148.  , 155.  , 118.  , 250.  ,  94.  ,\n",
       "        89.  , 287.  , 299.  , 325.  , 343.  , 142.  ,  22.  , 327.  ,\n",
       "       324.  , 164.  , 196.  , 169.  , 281.  , 192.  , 239.  , 258.  ,\n",
       "       223.  , 303.  , 151.  , 335.  , 307.  ,  75.  , 123.  , 163.  ,\n",
       "       354.  , 214.  ,  45.  , 102.  , 290.  , 271.  , 345.  ,   3.  ,\n",
       "       213.  , 203.  ,  21.  ,  68.  ,  72.  , 264.  , 284.  , 316.  ,\n",
       "       347.  , 261.  ,   4.  , 217.  ,  41.  ,  14.  ,  73.  ,  48.  ,\n",
       "        86.  ,   5.  , 111.  , 252.  , 225.  ,   7.  ,  26.  ,  85.  ,\n",
       "       276.  ,   9.  ,  93.  ,  82.  ,  69.  ,  42.  ,  80.  , 153.  ,\n",
       "        52.  , 191.  , 338.  , 172.  , 193.  , 200.  , 301.  , 323.  ,\n",
       "       353.  , 190.  ,  47.  , 282.  , 122.  , 171.  , 275.  , 132.  ,\n",
       "       357.  , 243.  , 254.  , 146.  ,  57.  ,  55.  ,  11.  , 205.  ,\n",
       "       240.  , 175.  , 348.  , 198.  , 120.  ,  31.  , 304.  , 216.  ,\n",
       "       334.  , 152.  , 210.  , 179.  ,    nan, 211.  ,  27.  ,  25.  ,\n",
       "        64.  , 248.  , 280.  , 180.  , 108.  , 157.  ,  29.  , 158.  ,\n",
       "        38.  ,  23.  , 237.  , 129.  , 249.  ,  88.  , 128.  , 136.  ,\n",
       "       314.  , 306.  , 341.  , 302.  , 199.  , 319.  ,  18.  , 255.  ,\n",
       "        16.  , 278.  , 204.  , 173.  , 326.  , 256.  , 266.  ,  24.  ,\n",
       "        13.  ,   1.  ,  79.  ,  37.  ,  67.  , 167.  ,  95.  ,  77.  ,\n",
       "        63.  , 333.  , 141.  , 288.  , 127.  , 159.  , 124.  , 317.  ,\n",
       "       265.  , 209.  ,  58.  ,   6.  , 251.  ,  12.  , 298.  ,  51.  ,\n",
       "       114.  , 346.  , 274.  ,   0.  , 197.  , 103.  ,  49.  , 308.  ,\n",
       "       336.  ,   2.  , 331.  ,  92.  , 312.  , 125.  , 259.  ,   8.  ,\n",
       "       131.  , 234.  , 321.  , 246.  ,  15.  , 337.  , 176.  , 126.  ,\n",
       "       332.  , 309.  , 117.  , 168.  ,  30.  , 355.  , 349.  , 315.  ,\n",
       "       229.  , 135.  , 205.25,   1.25,  55.25, 299.25, 215.25])"
      ]
     },
     "execution_count": 11,
     "metadata": {},
     "output_type": "execute_result"
    }
   ],
   "source": [
    "df_inc_clust['Dir. vi.'].unique()"
   ]
  }
 ],
 "metadata": {
  "kernelspec": {
   "display_name": "Python 3",
   "language": "python",
   "name": "python3"
  },
  "language_info": {
   "codemirror_mode": {
    "name": "ipython",
    "version": 3
   },
   "file_extension": ".py",
   "mimetype": "text/x-python",
   "name": "python",
   "nbconvert_exporter": "python",
   "pygments_lexer": "ipython3",
   "version": "3.7.4"
  }
 },
 "nbformat": 4,
 "nbformat_minor": 2
}
