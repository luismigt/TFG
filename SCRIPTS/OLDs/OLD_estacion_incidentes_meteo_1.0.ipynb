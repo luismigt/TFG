{
 "cells": [
  {
   "cell_type": "markdown",
   "metadata": {},
   "source": [
    "# estacion_incidentes_meteo_1.0"
   ]
  },
  {
   "cell_type": "markdown",
   "metadata": {},
   "source": [
    "En este script se generara un unico fichero en el cual se almacenen la relacion de ahogados y datos metereologicos relativos al lugar y fechas del incidente."
   ]
  },
  {
   "cell_type": "code",
   "execution_count": 1,
   "metadata": {},
   "outputs": [],
   "source": [
    "import pandas as pd\n",
    "import numpy as np\n",
    "\n",
    "\n",
    "df_incidente_est=pd.read_csv('../DATASETS/AHOGADOS/CSV/incidentes_estaciones.csv',sep='|',error_bad_lines=False)\n",
    "df_meteo_estaciones=pd.read_csv('../DATASETS/ESTACIONES/historico_estaciones_coordenadas_decimal.csv',sep='|',error_bad_lines=False)"
   ]
  },
  {
   "cell_type": "code",
   "execution_count": 2,
   "metadata": {},
   "outputs": [],
   "source": [
    "df_incidente_est['ID_ESTACION'] = df_incidente_est['ID_ESTACION'].astype(str)"
   ]
  },
  {
   "cell_type": "code",
   "execution_count": 3,
   "metadata": {},
   "outputs": [],
   "source": [
    "df_meteo_estaciones['ID'] = df_meteo_estaciones['ID'].astype(str)\n"
   ]
  },
  {
   "cell_type": "code",
   "execution_count": 4,
   "metadata": {},
   "outputs": [
    {
     "name": "stdout",
     "output_type": "stream",
     "text": [
      "<class 'pandas.core.frame.DataFrame'>\n",
      "RangeIndex: 6482 entries, 0 to 6481\n",
      "Data columns (total 28 columns):\n",
      "Fecha              6482 non-null object\n",
      "ID_ESTACION        6482 non-null object\n",
      "NOM_ESTACION       6482 non-null object\n",
      "IdAhogado          6482 non-null int64\n",
      "IdPersona          6482 non-null int64\n",
      "Localidad          6482 non-null object\n",
      "Provincia          6482 non-null object\n",
      "CCAA               6482 non-null object\n",
      "Hora               5381 non-null object\n",
      "Latitud            6482 non-null float64\n",
      "Longitud           6482 non-null float64\n",
      "Sexo               6481 non-null object\n",
      "Edad               5366 non-null float64\n",
      "Nacionalidad       6482 non-null object\n",
      "Origen             6482 non-null object\n",
      "Extraccion         6482 non-null object\n",
      "Titular            6482 non-null object\n",
      "Causa              6482 non-null object\n",
      "TipoAhogamiento    6482 non-null object\n",
      "Factor             6482 non-null object\n",
      "Intervencion       6482 non-null object\n",
      "Pronostico         6482 non-null object\n",
      "Localizacion       6482 non-null object\n",
      "Riesgo             6482 non-null object\n",
      "Reanimacion        6482 non-null object\n",
      "Vigilancia         6482 non-null object\n",
      "Actividad          6482 non-null object\n",
      "Deteccion          6482 non-null object\n",
      "dtypes: float64(3), int64(2), object(23)\n",
      "memory usage: 1.4+ MB\n"
     ]
    }
   ],
   "source": [
    "df_incidente_est.info()"
   ]
  },
  {
   "cell_type": "code",
   "execution_count": 5,
   "metadata": {},
   "outputs": [
    {
     "name": "stdout",
     "output_type": "stream",
     "text": [
      "<class 'pandas.core.frame.DataFrame'>\n",
      "RangeIndex: 344958 entries, 0 to 344957\n",
      "Data columns (total 16 columns):\n",
      "Fecha               344958 non-null object\n",
      "ID                  344958 non-null object\n",
      "Estacion            344958 non-null object\n",
      "Estado_x            344958 non-null object\n",
      "Latitud_y           344958 non-null float64\n",
      "Longitud_y          344958 non-null float64\n",
      "T. med. (ºC)        344958 non-null float64\n",
      "T. max (ºC)         344958 non-null float64\n",
      "T. min (ºC)         344958 non-null float64\n",
      "Prec. (mm)          344958 non-null object\n",
      "Presion/ Geopot.    344958 non-null object\n",
      "Dir. vi.            344958 non-null object\n",
      "Vel. vi. (Km/h)     344958 non-null object\n",
      "Nub.                344958 non-null object\n",
      "Prof. nieve (cm)    344958 non-null object\n",
      "Insolac. (horas)    272138 non-null object\n",
      "dtypes: float64(5), object(11)\n",
      "memory usage: 42.1+ MB\n"
     ]
    }
   ],
   "source": [
    "df_meteo_estaciones.info()"
   ]
  },
  {
   "cell_type": "code",
   "execution_count": 6,
   "metadata": {},
   "outputs": [],
   "source": [
    "df_meteo_estaciones=df_meteo_estaciones.rename(columns={\"T. med. (ºC)\": \"T_med\", \"T. max (ºC)\": \"T_max\",\"T. min (ºC)\":\"T_min\"})"
   ]
  },
  {
   "cell_type": "code",
   "execution_count": 7,
   "metadata": {},
   "outputs": [
    {
     "name": "stdout",
     "output_type": "stream",
     "text": [
      "<class 'pandas.core.frame.DataFrame'>\n",
      "RangeIndex: 344958 entries, 0 to 344957\n",
      "Data columns (total 16 columns):\n",
      "Fecha               344958 non-null object\n",
      "ID                  344958 non-null object\n",
      "Estacion            344958 non-null object\n",
      "Estado_x            344958 non-null object\n",
      "Latitud_y           344958 non-null float64\n",
      "Longitud_y          344958 non-null float64\n",
      "T_med               344958 non-null float64\n",
      "T_max               344958 non-null float64\n",
      "T_min               344958 non-null float64\n",
      "Prec. (mm)          344958 non-null object\n",
      "Presion/ Geopot.    344958 non-null object\n",
      "Dir. vi.            344958 non-null object\n",
      "Vel. vi. (Km/h)     344958 non-null object\n",
      "Nub.                344958 non-null object\n",
      "Prof. nieve (cm)    344958 non-null object\n",
      "Insolac. (horas)    272138 non-null object\n",
      "dtypes: float64(5), object(11)\n",
      "memory usage: 42.1+ MB\n"
     ]
    }
   ],
   "source": [
    "df_meteo_estaciones.info()"
   ]
  },
  {
   "cell_type": "code",
   "execution_count": 8,
   "metadata": {},
   "outputs": [],
   "source": [
    "df_inc_est_meteo = pd.merge(df_incidente_est, \n",
    "                  df_meteo_estaciones,\n",
    "                  left_on=['Fecha','ID_ESTACION'],\n",
    "                  right_on=['Fecha','ID'],\n",
    "                  how='inner')\n"
   ]
  },
  {
   "cell_type": "code",
   "execution_count": 9,
   "metadata": {},
   "outputs": [
    {
     "name": "stdout",
     "output_type": "stream",
     "text": [
      "<class 'pandas.core.frame.DataFrame'>\n",
      "Int64Index: 4352 entries, 0 to 4351\n",
      "Data columns (total 43 columns):\n",
      "Fecha               4352 non-null object\n",
      "ID_ESTACION         4352 non-null object\n",
      "NOM_ESTACION        4352 non-null object\n",
      "IdAhogado           4352 non-null int64\n",
      "IdPersona           4352 non-null int64\n",
      "Localidad           4352 non-null object\n",
      "Provincia           4352 non-null object\n",
      "CCAA                4352 non-null object\n",
      "Hora                3483 non-null object\n",
      "Latitud             4352 non-null float64\n",
      "Longitud            4352 non-null float64\n",
      "Sexo                4351 non-null object\n",
      "Edad                3541 non-null float64\n",
      "Nacionalidad        4352 non-null object\n",
      "Origen              4352 non-null object\n",
      "Extraccion          4352 non-null object\n",
      "Titular             4352 non-null object\n",
      "Causa               4352 non-null object\n",
      "TipoAhogamiento     4352 non-null object\n",
      "Factor              4352 non-null object\n",
      "Intervencion        4352 non-null object\n",
      "Pronostico          4352 non-null object\n",
      "Localizacion        4352 non-null object\n",
      "Riesgo              4352 non-null object\n",
      "Reanimacion         4352 non-null object\n",
      "Vigilancia          4352 non-null object\n",
      "Actividad           4352 non-null object\n",
      "Deteccion           4352 non-null object\n",
      "ID                  4352 non-null object\n",
      "Estacion            4352 non-null object\n",
      "Estado_x            4352 non-null object\n",
      "Latitud_y           4352 non-null float64\n",
      "Longitud_y          4352 non-null float64\n",
      "T_med               4352 non-null float64\n",
      "T_max               4352 non-null float64\n",
      "T_min               4352 non-null float64\n",
      "Prec. (mm)          4352 non-null object\n",
      "Presion/ Geopot.    4352 non-null object\n",
      "Dir. vi.            4352 non-null object\n",
      "Vel. vi. (Km/h)     4352 non-null object\n",
      "Nub.                4352 non-null object\n",
      "Prof. nieve (cm)    4352 non-null object\n",
      "Insolac. (horas)    3318 non-null object\n",
      "dtypes: float64(8), int64(2), object(33)\n",
      "memory usage: 1.5+ MB\n"
     ]
    }
   ],
   "source": [
    "#df_inc_est_meteo.info()\n",
    "df_inc_est_meteo.info()"
   ]
  },
  {
   "cell_type": "code",
   "execution_count": 10,
   "metadata": {},
   "outputs": [],
   "source": [
    "df_inc_est_meteo=df_inc_est_meteo[['Fecha','ID_ESTACION','ID','NOM_ESTACION','Estacion','IdAhogado','IdPersona','Localidad','Provincia','CCAA','Hora','Latitud','Longitud','Sexo','Edad','Nacionalidad','Origen','Extraccion','Titular','Causa','TipoAhogamiento','Factor','Intervencion','Pronostico','Localizacion','Riesgo','Reanimacion','Vigilancia','Actividad','Deteccion','T_med','T_max','T_min','Prec. (mm)','Presion/ Geopot.','Dir. vi.','Vel. vi. (Km/h)','Nub.','Prof. nieve (cm)','Insolac. (horas)']]"
   ]
  },
  {
   "cell_type": "code",
   "execution_count": 11,
   "metadata": {},
   "outputs": [
    {
     "data": {
      "text/html": [
       "<div>\n",
       "<style scoped>\n",
       "    .dataframe tbody tr th:only-of-type {\n",
       "        vertical-align: middle;\n",
       "    }\n",
       "\n",
       "    .dataframe tbody tr th {\n",
       "        vertical-align: top;\n",
       "    }\n",
       "\n",
       "    .dataframe thead th {\n",
       "        text-align: right;\n",
       "    }\n",
       "</style>\n",
       "<table border=\"1\" class=\"dataframe\">\n",
       "  <thead>\n",
       "    <tr style=\"text-align: right;\">\n",
       "      <th></th>\n",
       "      <th>Fecha</th>\n",
       "      <th>ID_ESTACION</th>\n",
       "      <th>ID</th>\n",
       "      <th>NOM_ESTACION</th>\n",
       "      <th>Estacion</th>\n",
       "      <th>IdAhogado</th>\n",
       "      <th>IdPersona</th>\n",
       "      <th>Localidad</th>\n",
       "      <th>Provincia</th>\n",
       "      <th>CCAA</th>\n",
       "      <th>...</th>\n",
       "      <th>T_med</th>\n",
       "      <th>T_max</th>\n",
       "      <th>T_min</th>\n",
       "      <th>Prec. (mm)</th>\n",
       "      <th>Presion/ Geopot.</th>\n",
       "      <th>Dir. vi.</th>\n",
       "      <th>Vel. vi. (Km/h)</th>\n",
       "      <th>Nub.</th>\n",
       "      <th>Prof. nieve (cm)</th>\n",
       "      <th>Insolac. (horas)</th>\n",
       "    </tr>\n",
       "  </thead>\n",
       "  <tbody>\n",
       "  </tbody>\n",
       "</table>\n",
       "<p>0 rows × 40 columns</p>\n",
       "</div>"
      ],
      "text/plain": [
       "Empty DataFrame\n",
       "Columns: [Fecha, ID_ESTACION, ID, NOM_ESTACION, Estacion, IdAhogado, IdPersona, Localidad, Provincia, CCAA, Hora, Latitud, Longitud, Sexo, Edad, Nacionalidad, Origen, Extraccion, Titular, Causa, TipoAhogamiento, Factor, Intervencion, Pronostico, Localizacion, Riesgo, Reanimacion, Vigilancia, Actividad, Deteccion, T_med, T_max, T_min, Prec. (mm), Presion/ Geopot., Dir. vi., Vel. vi. (Km/h), Nub., Prof. nieve (cm), Insolac. (horas)]\n",
       "Index: []\n",
       "\n",
       "[0 rows x 40 columns]"
      ]
     },
     "execution_count": 11,
     "metadata": {},
     "output_type": "execute_result"
    }
   ],
   "source": [
    "df_inc_est_meteo.loc[df_inc_est_meteo['T_med'].isnull()]"
   ]
  },
  {
   "cell_type": "code",
   "execution_count": 12,
   "metadata": {
    "scrolled": true
   },
   "outputs": [
    {
     "ename": "PermissionError",
     "evalue": "[Errno 13] Permission denied: '../DATASETS/AHOGADOS/CSV/historico_incidentes_estaciones_meteo.csv'",
     "output_type": "error",
     "traceback": [
      "\u001b[1;31m---------------------------------------------------------------------------\u001b[0m",
      "\u001b[1;31mPermissionError\u001b[0m                           Traceback (most recent call last)",
      "\u001b[1;32m<ipython-input-12-7494909f0da5>\u001b[0m in \u001b[0;36m<module>\u001b[1;34m\u001b[0m\n\u001b[1;32m----> 1\u001b[1;33m \u001b[0mdf_inc_est_meteo\u001b[0m\u001b[1;33m.\u001b[0m\u001b[0mto_csv\u001b[0m\u001b[1;33m(\u001b[0m\u001b[1;34m'../DATASETS/AHOGADOS/CSV/historico_incidentes_estaciones_meteo.csv'\u001b[0m\u001b[1;33m,\u001b[0m\u001b[0msep\u001b[0m\u001b[1;33m=\u001b[0m\u001b[1;34m'|'\u001b[0m\u001b[1;33m,\u001b[0m\u001b[0mheader\u001b[0m\u001b[1;33m=\u001b[0m\u001b[1;32mTrue\u001b[0m\u001b[1;33m,\u001b[0m\u001b[0mindex\u001b[0m\u001b[1;33m=\u001b[0m\u001b[1;32mFalse\u001b[0m\u001b[1;33m)\u001b[0m\u001b[1;33m\u001b[0m\u001b[1;33m\u001b[0m\u001b[0m\n\u001b[0m",
      "\u001b[1;32m~\\Anaconda3\\envs\\ztdl2\\lib\\site-packages\\pandas\\core\\generic.py\u001b[0m in \u001b[0;36mto_csv\u001b[1;34m(self, path_or_buf, sep, na_rep, float_format, columns, header, index, index_label, mode, encoding, compression, quoting, quotechar, line_terminator, chunksize, tupleize_cols, date_format, doublequote, escapechar, decimal)\u001b[0m\n\u001b[0;32m   3018\u001b[0m                                  \u001b[0mdoublequote\u001b[0m\u001b[1;33m=\u001b[0m\u001b[0mdoublequote\u001b[0m\u001b[1;33m,\u001b[0m\u001b[1;33m\u001b[0m\u001b[1;33m\u001b[0m\u001b[0m\n\u001b[0;32m   3019\u001b[0m                                  escapechar=escapechar, decimal=decimal)\n\u001b[1;32m-> 3020\u001b[1;33m         \u001b[0mformatter\u001b[0m\u001b[1;33m.\u001b[0m\u001b[0msave\u001b[0m\u001b[1;33m(\u001b[0m\u001b[1;33m)\u001b[0m\u001b[1;33m\u001b[0m\u001b[1;33m\u001b[0m\u001b[0m\n\u001b[0m\u001b[0;32m   3021\u001b[0m \u001b[1;33m\u001b[0m\u001b[0m\n\u001b[0;32m   3022\u001b[0m         \u001b[1;32mif\u001b[0m \u001b[0mpath_or_buf\u001b[0m \u001b[1;32mis\u001b[0m \u001b[1;32mNone\u001b[0m\u001b[1;33m:\u001b[0m\u001b[1;33m\u001b[0m\u001b[1;33m\u001b[0m\u001b[0m\n",
      "\u001b[1;32m~\\Anaconda3\\envs\\ztdl2\\lib\\site-packages\\pandas\\io\\formats\\csvs.py\u001b[0m in \u001b[0;36msave\u001b[1;34m(self)\u001b[0m\n\u001b[0;32m    155\u001b[0m             f, handles = _get_handle(self.path_or_buf, self.mode,\n\u001b[0;32m    156\u001b[0m                                      \u001b[0mencoding\u001b[0m\u001b[1;33m=\u001b[0m\u001b[0mself\u001b[0m\u001b[1;33m.\u001b[0m\u001b[0mencoding\u001b[0m\u001b[1;33m,\u001b[0m\u001b[1;33m\u001b[0m\u001b[1;33m\u001b[0m\u001b[0m\n\u001b[1;32m--> 157\u001b[1;33m                                      compression=self.compression)\n\u001b[0m\u001b[0;32m    158\u001b[0m             \u001b[0mclose\u001b[0m \u001b[1;33m=\u001b[0m \u001b[1;32mTrue\u001b[0m\u001b[1;33m\u001b[0m\u001b[1;33m\u001b[0m\u001b[0m\n\u001b[0;32m    159\u001b[0m \u001b[1;33m\u001b[0m\u001b[0m\n",
      "\u001b[1;32m~\\Anaconda3\\envs\\ztdl2\\lib\\site-packages\\pandas\\io\\common.py\u001b[0m in \u001b[0;36m_get_handle\u001b[1;34m(path_or_buf, mode, encoding, compression, memory_map, is_text)\u001b[0m\n\u001b[0;32m    422\u001b[0m         \u001b[1;32melif\u001b[0m \u001b[0mencoding\u001b[0m\u001b[1;33m:\u001b[0m\u001b[1;33m\u001b[0m\u001b[1;33m\u001b[0m\u001b[0m\n\u001b[0;32m    423\u001b[0m             \u001b[1;31m# Python 3 and encoding\u001b[0m\u001b[1;33m\u001b[0m\u001b[1;33m\u001b[0m\u001b[1;33m\u001b[0m\u001b[0m\n\u001b[1;32m--> 424\u001b[1;33m             \u001b[0mf\u001b[0m \u001b[1;33m=\u001b[0m \u001b[0mopen\u001b[0m\u001b[1;33m(\u001b[0m\u001b[0mpath_or_buf\u001b[0m\u001b[1;33m,\u001b[0m \u001b[0mmode\u001b[0m\u001b[1;33m,\u001b[0m \u001b[0mencoding\u001b[0m\u001b[1;33m=\u001b[0m\u001b[0mencoding\u001b[0m\u001b[1;33m,\u001b[0m \u001b[0mnewline\u001b[0m\u001b[1;33m=\u001b[0m\u001b[1;34m\"\"\u001b[0m\u001b[1;33m)\u001b[0m\u001b[1;33m\u001b[0m\u001b[1;33m\u001b[0m\u001b[0m\n\u001b[0m\u001b[0;32m    425\u001b[0m         \u001b[1;32melif\u001b[0m \u001b[0mis_text\u001b[0m\u001b[1;33m:\u001b[0m\u001b[1;33m\u001b[0m\u001b[1;33m\u001b[0m\u001b[0m\n\u001b[0;32m    426\u001b[0m             \u001b[1;31m# Python 3 and no explicit encoding\u001b[0m\u001b[1;33m\u001b[0m\u001b[1;33m\u001b[0m\u001b[1;33m\u001b[0m\u001b[0m\n",
      "\u001b[1;31mPermissionError\u001b[0m: [Errno 13] Permission denied: '../DATASETS/AHOGADOS/CSV/historico_incidentes_estaciones_meteo.csv'"
     ]
    }
   ],
   "source": [
    "df_inc_est_meteo.to_csv('../DATASETS/AHOGADOS/CSV/historico_incidentes_estaciones_meteo.csv',sep='|',header=True,index=False)"
   ]
  }
 ],
 "metadata": {
  "kernelspec": {
   "display_name": "Python 3",
   "language": "python",
   "name": "python3"
  },
  "language_info": {
   "codemirror_mode": {
    "name": "ipython",
    "version": 3
   },
   "file_extension": ".py",
   "mimetype": "text/x-python",
   "name": "python",
   "nbconvert_exporter": "python",
   "pygments_lexer": "ipython3",
   "version": "3.7.6"
  }
 },
 "nbformat": 4,
 "nbformat_minor": 2
}
