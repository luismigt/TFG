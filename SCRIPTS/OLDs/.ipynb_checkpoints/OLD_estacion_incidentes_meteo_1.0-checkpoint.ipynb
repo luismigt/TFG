{
 "cells": [
  {
   "cell_type": "markdown",
   "metadata": {},
   "source": [
    "# estacion_incidentes_meteo_1.0"
   ]
  },
  {
   "cell_type": "markdown",
   "metadata": {},
   "source": [
    "En este script se generara un unico fichero en el cual se almacenen la relacion de ahogados y datos metereologicos relativos al lugar y fechas del incidente."
   ]
  },
  {
   "cell_type": "code",
   "execution_count": 1,
   "metadata": {},
   "outputs": [],
   "source": [
    "import pandas as pd\n",
    "\n",
    "\n",
    "df_incidente_est=pd.read_csv('../DATASETS/AHOGADOS/CSV/incidentes_estaciones.csv',sep='|',error_bad_lines=False)\n",
    "df_meteo_estaciones=pd.read_csv('../DATASETS/ESTACIONES/historico_estaciones_coordenadas_decimal.csv',sep='|',error_bad_lines=False)"
   ]
  },
  {
   "cell_type": "code",
   "execution_count": 2,
   "metadata": {},
   "outputs": [
    {
     "name": "stdout",
     "output_type": "stream",
     "text": [
      "<class 'pandas.core.frame.DataFrame'>\n",
      "RangeIndex: 6482 entries, 0 to 6481\n",
      "Data columns (total 28 columns):\n",
      "Fecha              6482 non-null object\n",
      "ID_ESTACION        6482 non-null int64\n",
      "NOM_ESTACION       6482 non-null object\n",
      "IdAhogado          6482 non-null int64\n",
      "IdPersona          6482 non-null int64\n",
      "Localidad          6482 non-null object\n",
      "Provincia          6482 non-null object\n",
      "CCAA               6482 non-null object\n",
      "Hora               5381 non-null object\n",
      "Latitud            6482 non-null float64\n",
      "Longitud           6482 non-null float64\n",
      "Sexo               6481 non-null object\n",
      "Edad               5366 non-null float64\n",
      "Nacionalidad       6482 non-null object\n",
      "Origen             6482 non-null object\n",
      "Extraccion         6482 non-null object\n",
      "Titular            6482 non-null object\n",
      "Causa              6482 non-null object\n",
      "TipoAhogamiento    6482 non-null object\n",
      "Factor             6482 non-null object\n",
      "Intervencion       6482 non-null object\n",
      "Pronostico         6482 non-null object\n",
      "Localizacion       6482 non-null object\n",
      "Riesgo             6482 non-null object\n",
      "Reanimacion        6482 non-null object\n",
      "Vigilancia         6482 non-null object\n",
      "Actividad          6482 non-null object\n",
      "Deteccion          6482 non-null object\n",
      "dtypes: float64(3), int64(3), object(22)\n",
      "memory usage: 1.4+ MB\n"
     ]
    }
   ],
   "source": [
    "df_incidente_est.info()"
   ]
  },
  {
   "cell_type": "code",
   "execution_count": 3,
   "metadata": {},
   "outputs": [
    {
     "name": "stdout",
     "output_type": "stream",
     "text": [
      "<class 'pandas.core.frame.DataFrame'>\n",
      "RangeIndex: 719228 entries, 0 to 719227\n",
      "Data columns (total 16 columns):\n",
      "Fecha               719228 non-null object\n",
      "ID                  719228 non-null int64\n",
      "Estacion            719228 non-null object\n",
      "Estado_x            719228 non-null object\n",
      "Latitud_y           719228 non-null float64\n",
      "Longitud_y          719228 non-null float64\n",
      "T. med. (ºC)        719228 non-null object\n",
      "T. max (ºC)         719228 non-null object\n",
      "T. min (ºC)         719228 non-null object\n",
      "Prec. (mm)          719228 non-null object\n",
      "Presion/ Geopot.    719228 non-null object\n",
      "Dir. vi.            719228 non-null object\n",
      "Vel. vi. (Km/h)     719227 non-null object\n",
      "Nub.                719227 non-null object\n",
      "Prof. nieve (cm)    719227 non-null object\n",
      "Insolac. (horas)    567417 non-null object\n",
      "dtypes: float64(2), int64(1), object(13)\n",
      "memory usage: 87.8+ MB\n"
     ]
    }
   ],
   "source": [
    "df_meteo_estaciones.info()"
   ]
  },
  {
   "cell_type": "code",
   "execution_count": 4,
   "metadata": {},
   "outputs": [],
   "source": [
    "df_inc_est_meteo = pd.merge(df_incidente_est, \n",
    "                  df_meteo_estaciones,\n",
    "                  left_on=['Fecha','ID_ESTACION'],\n",
    "                  right_on=['Fecha','ID'],\n",
    "                  how='left')\n"
   ]
  },
  {
   "cell_type": "code",
   "execution_count": 5,
   "metadata": {},
   "outputs": [
    {
     "name": "stdout",
     "output_type": "stream",
     "text": [
      "<class 'pandas.core.frame.DataFrame'>\n",
      "Int64Index: 10694 entries, 0 to 10693\n",
      "Data columns (total 43 columns):\n",
      "Fecha               10694 non-null object\n",
      "ID_ESTACION         10694 non-null int64\n",
      "NOM_ESTACION        10694 non-null object\n",
      "IdAhogado           10694 non-null int64\n",
      "IdPersona           10694 non-null int64\n",
      "Localidad           10694 non-null object\n",
      "Provincia           10694 non-null object\n",
      "CCAA                10694 non-null object\n",
      "Hora                8743 non-null object\n",
      "Latitud             10694 non-null float64\n",
      "Longitud            10694 non-null float64\n",
      "Sexo                10692 non-null object\n",
      "Edad                8777 non-null float64\n",
      "Nacionalidad        10694 non-null object\n",
      "Origen              10694 non-null object\n",
      "Extraccion          10694 non-null object\n",
      "Titular             10694 non-null object\n",
      "Causa               10694 non-null object\n",
      "TipoAhogamiento     10694 non-null object\n",
      "Factor              10694 non-null object\n",
      "Intervencion        10694 non-null object\n",
      "Pronostico          10694 non-null object\n",
      "Localizacion        10694 non-null object\n",
      "Riesgo              10694 non-null object\n",
      "Reanimacion         10694 non-null object\n",
      "Vigilancia          10694 non-null object\n",
      "Actividad           10694 non-null object\n",
      "Deteccion           10694 non-null object\n",
      "ID                  8424 non-null float64\n",
      "Estacion            8424 non-null object\n",
      "Estado_x            8424 non-null object\n",
      "Latitud_y           8424 non-null float64\n",
      "Longitud_y          8424 non-null float64\n",
      "T. med. (ºC)        8424 non-null object\n",
      "T. max (ºC)         8424 non-null object\n",
      "T. min (ºC)         8424 non-null object\n",
      "Prec. (mm)          8424 non-null object\n",
      "Presion/ Geopot.    8424 non-null object\n",
      "Dir. vi.            8424 non-null object\n",
      "Vel. vi. (Km/h)     8424 non-null object\n",
      "Nub.                8424 non-null object\n",
      "Prof. nieve (cm)    8424 non-null object\n",
      "Insolac. (horas)    6496 non-null object\n",
      "dtypes: float64(6), int64(3), object(34)\n",
      "memory usage: 3.6+ MB\n"
     ]
    }
   ],
   "source": [
    "#df_inc_est_meteo.info()\n",
    "df_inc_est_meteo.info()"
   ]
  },
  {
   "cell_type": "code",
   "execution_count": 10,
   "metadata": {},
   "outputs": [],
   "source": [
    "df_inc_est_meteo=df_inc_est_meteo[['Fecha','ID_ESTACION','NOM_ESTACION','IdAhogado','IdPersona','Localidad','Provincia','CCAA','Hora','Latitud','Longitud','Sexo','Edad','Nacionalidad','Origen','Extraccion','Titular','Causa','TipoAhogamiento','Factor','Intervencion','Pronostico','Localizacion','Riesgo','Reanimacion','Vigilancia','Actividad','Deteccion','T. med. (ºC)','T. max (ºC)','T. min (ºC)','Prec. (mm)','Presion/ Geopot.','Dir. vi.','Vel. vi. (Km/h)','Nub.','Prof. nieve (cm)','Insolac. (horas)']]"
   ]
  },
  {
   "cell_type": "code",
   "execution_count": 12,
   "metadata": {},
   "outputs": [
    {
     "name": "stdout",
     "output_type": "stream",
     "text": [
      "<class 'pandas.core.frame.DataFrame'>\n",
      "Int64Index: 10694 entries, 0 to 10693\n",
      "Data columns (total 38 columns):\n",
      "Fecha               10694 non-null object\n",
      "ID_ESTACION         10694 non-null int64\n",
      "NOM_ESTACION        10694 non-null object\n",
      "IdAhogado           10694 non-null int64\n",
      "IdPersona           10694 non-null int64\n",
      "Localidad           10694 non-null object\n",
      "Provincia           10694 non-null object\n",
      "CCAA                10694 non-null object\n",
      "Hora                8743 non-null object\n",
      "Latitud             10694 non-null float64\n",
      "Longitud            10694 non-null float64\n",
      "Sexo                10692 non-null object\n",
      "Edad                8777 non-null float64\n",
      "Nacionalidad        10694 non-null object\n",
      "Origen              10694 non-null object\n",
      "Extraccion          10694 non-null object\n",
      "Titular             10694 non-null object\n",
      "Causa               10694 non-null object\n",
      "TipoAhogamiento     10694 non-null object\n",
      "Factor              10694 non-null object\n",
      "Intervencion        10694 non-null object\n",
      "Pronostico          10694 non-null object\n",
      "Localizacion        10694 non-null object\n",
      "Riesgo              10694 non-null object\n",
      "Reanimacion         10694 non-null object\n",
      "Vigilancia          10694 non-null object\n",
      "Actividad           10694 non-null object\n",
      "Deteccion           10694 non-null object\n",
      "T. med. (ºC)        8424 non-null object\n",
      "T. max (ºC)         8424 non-null object\n",
      "T. min (ºC)         8424 non-null object\n",
      "Prec. (mm)          8424 non-null object\n",
      "Presion/ Geopot.    8424 non-null object\n",
      "Dir. vi.            8424 non-null object\n",
      "Vel. vi. (Km/h)     8424 non-null object\n",
      "Nub.                8424 non-null object\n",
      "Prof. nieve (cm)    8424 non-null object\n",
      "Insolac. (horas)    6496 non-null object\n",
      "dtypes: float64(3), int64(3), object(32)\n",
      "memory usage: 3.2+ MB\n"
     ]
    }
   ],
   "source": [
    "df_inc_est_meteo.info()"
   ]
  }
 ],
 "metadata": {
  "kernelspec": {
   "display_name": "Python 3",
   "language": "python",
   "name": "python3"
  },
  "language_info": {
   "codemirror_mode": {
    "name": "ipython",
    "version": 3
   },
   "file_extension": ".py",
   "mimetype": "text/x-python",
   "name": "python",
   "nbconvert_exporter": "python",
   "pygments_lexer": "ipython3",
   "version": "3.7.6"
  }
 },
 "nbformat": 4,
 "nbformat_minor": 2
}
